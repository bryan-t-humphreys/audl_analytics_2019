{
 "cells": [
  {
   "cell_type": "markdown",
   "metadata": {},
   "source": [
    "# American Ultimate Disc League\n",
    "***\n",
    "## 2019 Season Analysis\n",
    "  * Bryan Humphreys"
   ]
  },
  {
   "cell_type": "markdown",
   "metadata": {},
   "source": [
    "***\n",
    " ### Imports and Set Up\n",
    " \n",
    " * Read in each team's 2019 season (.csv) data\n",
    " * Create a list of team names\n",
    " * Create two dictionaries:\n",
    "  1. Dictionary of teams: dataframes (from the .csv)\n",
    "  2. Dictionary of colors: one for each team\n",
    "  \n",
    "These are the pieces needed to run the next steps of analysis"
   ]
  },
  {
   "cell_type": "code",
   "execution_count": 1,
   "metadata": {},
   "outputs": [],
   "source": [
    "import pandas as pd\n",
    "pd.set_option('display.max_rows', 500)\n",
    "pd.set_option('display.max_columns', 500)\n",
    "\n",
    "import math\n",
    "import datetime\n",
    "import statistics\n",
    "\n",
    "from scipy.stats import nbinom\n",
    "import matplotlib.pyplot as plt\n",
    "import numpy as np\n",
    "from itertools import groupby\n",
    "\n",
    "import plotly.graph_objects as go\n",
    "from plotly.offline import plot, iplot\n",
    "\n",
    "from utils import *\n",
    "    \n",
    "from unit_test_gamestat import game_stat_test\n",
    "\n",
    "sj = pd.read_csv(\"data/SanJoseSpiders2019-stats.csv\")\n",
    "sea = pd.read_csv(\"data/SeattleCascades2019-stats.csv\")\n",
    "la = pd.read_csv(\"data/LosAngelesAviators2019-stats.csv\")\n",
    "sd = pd.read_csv(\"data/SanDiegoGrowlers2019-stats.csv\")\n",
    "\n",
    "atl = pd.read_csv(\"data/AtlantaHustle2019-stats.csv\")\n",
    "aus = pd.read_csv(\"data/AustinSol2019-stats.csv\")\n",
    "dal = pd.read_csv(\"data/DallasRoughnecks2019-stats.csv\")\n",
    "ral = pd.read_csv(\"data/RaleighFlyers2019-stats.csv\")\n",
    "tb = pd.read_csv(\"data/TampaBayCannons2019-stats.csv\")\n",
    "ind = pd.read_csv(\"data/IndianapolisAlleyCats2019-stats.csv\")\n",
    "\n",
    "chi = pd.read_csv(\"data/ChicagoWildfire2019-stats.csv\")\n",
    "mad = pd.read_csv(\"data/MadisonRadicals2019-stats.csv\")\n",
    "mn = pd.read_csv(\"data/MinnesotaWindChill2019-stats.csv\")\n",
    "pit = pd.read_csv(\"data/PittsburghThunderbirds2019-stats.csv\")\n",
    "det = pd.read_csv(\"data/DetroitMechanix2019-stats.csv\")\n",
    "\n",
    "dc = pd.read_csv(\"data/DCBreeze2019-stats.csv\")\n",
    "phi = pd.read_csv(\"data/PhiladelphiaPhoenix2019-stats.csv\")\n",
    "ny = pd.read_csv(\"data/NewYorkEmpire2019-stats.csv\")\n",
    "tor = pd.read_csv(\"data/TorontoRush2019-stats.csv\")\n",
    "ott = pd.read_csv(\"data/OttawaOutlaws2019-stats.csv\")\n",
    "mon = pd.read_csv(\"data/MontrealRoyal2019-stats.csv\")\n",
    "\n",
    "teams_list = [\"San Jose Spiders\",\n",
    "              \"Seattle Cascades\",\n",
    "              \"Los Angeles Aviators\",\n",
    "              \"San Diego Growlers\",\n",
    "              \"Atlanta Hustle\",\n",
    "              \"Austin Sol\",\n",
    "              \"Dallas Roughnecks\",\n",
    "              \"Raleigh Flyers\",\n",
    "              \"Tampa Bay Cannons\",\n",
    "              \"Indianapolis AlleyCats\",\n",
    "              \"Chicago Wildfire\",\n",
    "              \"Madison Radicals\",\n",
    "              \"Minnesota Wind Chill\",\n",
    "              \"Pittsburgh Thunderbirds\",\n",
    "              \"Detroit Mechanix\",\n",
    "              \"DC Breeze\",\n",
    "              \"Philadelphia Phoenix\",\n",
    "              \"New York Empire\",\n",
    "              \"Toronto Rush\",\n",
    "              \"Ottawa Outlaws\",\n",
    "              \"Montreal Royal\"]\n",
    "\n",
    "teams_dict = {\"San Jose Spiders\":sj,\n",
    "              \"Seattle Cascades\":sea,\n",
    "              \"Los Angeles Aviators\":la,\n",
    "              \"San Diego Growlers\":sd,\n",
    "              \"Atlanta Hustle\":atl,\n",
    "              \"Austin Sol\":aus,\n",
    "              \"Dallas Roughnecks\":dal,\n",
    "              \"Raleigh Flyers\":ral,\n",
    "              \"Tampa Bay Cannons\":tb,\n",
    "              \"Indianapolis AlleyCats\":ind,\n",
    "              \"Chicago Wildfire\":chi,\n",
    "              \"Madison Radicals\":mad,\n",
    "              \"Minnesota Wind Chill\":mn,\n",
    "              \"Pittsburgh Thunderbirds\":pit,\n",
    "              \"Detroit Mechanix\":det,\n",
    "              \"DC Breeze\":dc,\n",
    "              \"Philadelphia Phoenix\":phi,\n",
    "              \"New York Empire\":ny,\n",
    "              \"Toronto Rush\":tor,\n",
    "              \"Ottawa Outlaws\":ott,\n",
    "              \"Montreal Royal\":mon\n",
    "             }\n",
    "\n",
    "teams_col_dict = {\"San Jose Spiders\":'gold',\n",
    "              \"Seattle Cascades\":'midnightblue',\n",
    "              \"Los Angeles Aviators\":'crimson',\n",
    "              \"San Diego Growlers\":'black',\n",
    "              \"Atlanta Hustle\":'indigo',\n",
    "              \"Austin Sol\":'blue',\n",
    "              \"Dallas Roughnecks\":'whitesmoke',\n",
    "              \"Raleigh Flyers\":'red',\n",
    "              \"Tampa Bay Cannons\":'yellow',\n",
    "              \"Indianapolis AlleyCats\":'darkgreen',\n",
    "              \"Chicago Wildfire\":'orangered',\n",
    "              \"Madison Radicals\":'goldenrod',\n",
    "              \"Minnesota Wind Chill\":'lightsteelblue',\n",
    "              \"Pittsburgh Thunderbirds\":'orange',\n",
    "              \"Detroit Mechanix\":'maroon',\n",
    "              \"DC Breeze\":'navy',\n",
    "              \"Philadelphia Phoenix\":'firebrick',\n",
    "              \"New York Empire\":'limegreen',\n",
    "              \"Toronto Rush\":'tomato',\n",
    "              \"Ottawa Outlaws\":'olivedrab',\n",
    "              \"Montreal Royal\":'royalblue'\n",
    "             }\n",
    "\n"
   ]
  },
  {
   "cell_type": "markdown",
   "metadata": {},
   "source": [
    "***\n",
    "### Unit Testing"
   ]
  },
  {
   "cell_type": "markdown",
   "metadata": {},
   "source": [
    "##### Unit Test 1:  Test the get_avg_hangtime, get_event_counts functions for a single game"
   ]
  },
  {
   "cell_type": "code",
   "execution_count": 2,
   "metadata": {},
   "outputs": [
    {
     "name": "stdout",
     "output_type": "stream",
     "text": [
      "Average Hangtime for Pull:  Montreal Royal = None\n",
      "Average Hangtime for Pull:  DC Breeze = 7.089359999999999\n",
      "Montreal Royal Total Stats: \n",
      "\n",
      "OFFENSE:\n",
      "{'catch': 0, 'throwaway': 0, 'drop': 0, 'goal': 0, 'turnovers': 0}\n",
      "DEFENSE:\n",
      "{'d': 0, 'throwaway': 0, 'pull': 0, 'pullob': 0, 'goal': 0, 'turnovers': 0}\n",
      "--------------\n",
      "\n",
      "Montreal Royal O-Line Stats: \n",
      "\n",
      "OFFENSE:\n",
      "{'catch': 0, 'throwaway': 0, 'drop': 0, 'goal': 0, 'turnovers': 0}\n",
      "DEFENSE:\n",
      "{'d': 0, 'throwaway': 0, 'pull': 0, 'pullob': 0, 'goal': 0, 'turnovers': 0}\n",
      "--------------\n",
      "\n",
      "Montreal Royal D-Line Stats: \n",
      "\n",
      "OFFENSE:\n",
      "{'catch': 0, 'throwaway': 0, 'drop': 0, 'goal': 0, 'turnovers': 0}\n",
      "DEFENSE:\n",
      "{'d': 0, 'throwaway': 0, 'pull': 0, 'pullob': 0, 'goal': 0, 'turnovers': 0}\n",
      "--------------\n",
      "\n",
      "DC Breeze Total Stats: \n",
      "\n",
      "OFFENSE:\n",
      "{'catch': 200, 'throwaway': 12, 'drop': 3, 'goal': 27, 'turnovers': 15}\n",
      "DEFENSE:\n",
      "{'d': 15, 'throwaway': 10, 'pull': 26, 'pullob': 1, 'goal': 17, 'turnovers': 25}\n",
      "--------------\n",
      "\n",
      "DC Breeze O-Line Stats: \n",
      "\n",
      "OFFENSE:\n",
      "{'catch': 144, 'throwaway': 6, 'drop': 1, 'goal': 18, 'turnovers': 7}\n",
      "DEFENSE:\n",
      "{'d': 4, 'throwaway': 2, 'pull': 0, 'pullob': 0, 'goal': 1, 'turnovers': 6}\n",
      "--------------\n",
      "\n",
      "DC Breeze D-Line Stats: \n",
      "\n",
      "OFFENSE:\n",
      "{'catch': 56, 'throwaway': 6, 'drop': 2, 'goal': 9, 'turnovers': 8}\n",
      "DEFENSE:\n",
      "{'d': 11, 'throwaway': 8, 'pull': 26, 'pullob': 1, 'goal': 16, 'turnovers': 19}\n",
      "--------------\n",
      "\n"
     ]
    }
   ],
   "source": [
    "#game_stat_test(\"San Jose Spiders\",\"Seattle Cascades\",team_dict,\"4/6/2019 0:00\")\n",
    "#game_stat_test(\"San Diego Growlers\",\"Los Angeles Aviators\",team_dict,\"4/6/2019 0:00\")\n",
    "#game_stat_test(\"San Jose Spiders\",\"San Diego Growlers\",team_dict,\"4/20/2019 0:00\")\n",
    "#game_stat_test(\"Atlanta Hustle\",\"Indianapolis Alley Cats\",teams_dict,\"5/11/2019 0:00\")\n",
    "#game_stat_test(\"New York Empire\",\"Raleigh Flyers\",teams_dict,\"6/22/2019 0:00\")\n",
    "#game_stat_test(\"Minnesota Wind Chill\",\"Indianapolis AlleyCats\",teams_dict,\"6/22/2019 0:00\")\n",
    "\n",
    "game_stat_test(\"Montreal Royal\",\"DC Breeze\",teams_dict,\"5/26/2019 0:00\")"
   ]
  },
  {
   "cell_type": "markdown",
   "metadata": {},
   "source": [
    "##### Unit Test 2:"
   ]
  },
  {
   "cell_type": "code",
   "execution_count": null,
   "metadata": {},
   "outputs": [],
   "source": [
    "## Testing Datasets\n",
    "#  sj_sea = sj[sj['Opponent'] == \"Seattle Cascades\"]\n",
    "#  sd_la = sd[sd['Opponent'] == \"Los Angeles Aviators\"]\n",
    "\n",
    "#  sj_sea_0406 = sj_sea[sj_sea['Date/Time'] == \"4/6/2019 0:00\"]\n",
    "#  sd_la_0406 = sd_la[sd_la['Date/Time'] == \"4/6/2019 0:00\"]\n",
    "\n",
    "#  sj_sd = sj[sj['Opponent'] == \"San Diego Growlers\"]\n",
    "#  sj_sd_0406 = sj_sd[sj_sd['Date/Time'] == \"4/20/2019 0:00\"]\n"
   ]
  },
  {
   "cell_type": "markdown",
   "metadata": {},
   "source": [
    "****\n",
    "### Acquire game information and game statistics\n",
    "* The game dictionary provides the date-team1-team2 (key) with a dictionary of various game statistics\n",
    "* The stats dataframe flattens out the original dictionary"
   ]
  },
  {
   "cell_type": "code",
   "execution_count": 9,
   "metadata": {},
   "outputs": [],
   "source": [
    "game_dict, df_stats = get_game_stats(team_dict=teams_dict)"
   ]
  },
  {
   "cell_type": "code",
   "execution_count": 10,
   "metadata": {
    "scrolled": true
   },
   "outputs": [
    {
     "data": {
      "text/plain": [
       "{'game_date': '6/15/2019 0:00',\n",
       " 'team1': {'team': 'San Jose Spiders',\n",
       "  'stats': {'avg_hangtime_pull': 3.2129090909090907,\n",
       "   'team_offensive_stats': {'catch': 214,\n",
       "    'throwaway': 18,\n",
       "    'drop': 3,\n",
       "    'goal': 25,\n",
       "    'turnovers': 21},\n",
       "   'team_defensive_stats': {'d': 6,\n",
       "    'throwaway': 15,\n",
       "    'pull': 24,\n",
       "    'pullob': 3,\n",
       "    'goal': 26,\n",
       "    'turnovers': 21},\n",
       "   'oline_offensive_stats': {'catch': 167,\n",
       "    'throwaway': 15,\n",
       "    'drop': 1,\n",
       "    'goal': 16,\n",
       "    'turnovers': 16},\n",
       "   'oline_defensive_stats': {'d': 2,\n",
       "    'throwaway': 6,\n",
       "    'pull': 0,\n",
       "    'pullob': 1,\n",
       "    'goal': 8,\n",
       "    'turnovers': 8},\n",
       "   'dline_offensive_stats': {'catch': 47,\n",
       "    'throwaway': 3,\n",
       "    'drop': 2,\n",
       "    'goal': 9,\n",
       "    'turnovers': 5},\n",
       "   'dline_defensive_stats': {'d': 4,\n",
       "    'throwaway': 9,\n",
       "    'pull': 24,\n",
       "    'pullob': 2,\n",
       "    'goal': 18,\n",
       "    'turnovers': 13}}},\n",
       " 'team2': {'team': 'Seattle Cascades',\n",
       "  'stats': {'avg_hangtime_pull': 6.855086956521739,\n",
       "   'team_offensive_stats': {'catch': 228,\n",
       "    'throwaway': 19,\n",
       "    'drop': 1,\n",
       "    'goal': 26,\n",
       "    'turnovers': 20},\n",
       "   'team_defensive_stats': {'d': 9,\n",
       "    'throwaway': 11,\n",
       "    'pull': 26,\n",
       "    'pullob': 1,\n",
       "    'goal': 25,\n",
       "    'turnovers': 20},\n",
       "   'oline_offensive_stats': {'catch': 161,\n",
       "    'throwaway': 12,\n",
       "    'drop': 1,\n",
       "    'goal': 18,\n",
       "    'turnovers': 13},\n",
       "   'oline_defensive_stats': {'d': 0,\n",
       "    'throwaway': 5,\n",
       "    'pull': 0,\n",
       "    'pullob': 1,\n",
       "    'goal': 9,\n",
       "    'turnovers': 5},\n",
       "   'dline_offensive_stats': {'catch': 67,\n",
       "    'throwaway': 7,\n",
       "    'drop': 0,\n",
       "    'goal': 8,\n",
       "    'turnovers': 7},\n",
       "   'dline_defensive_stats': {'d': 9,\n",
       "    'throwaway': 6,\n",
       "    'pull': 26,\n",
       "    'pullob': 0,\n",
       "    'goal': 16,\n",
       "    'turnovers': 15}}}}"
      ]
     },
     "execution_count": 10,
     "metadata": {},
     "output_type": "execute_result"
    }
   ],
   "source": [
    "game_dict['6/15/2019|San Jose Spiders|Seattle Cascades']"
   ]
  },
  {
   "cell_type": "code",
   "execution_count": 11,
   "metadata": {},
   "outputs": [
    {
     "data": {
      "text/html": [
       "<div>\n",
       "<style scoped>\n",
       "    .dataframe tbody tr th:only-of-type {\n",
       "        vertical-align: middle;\n",
       "    }\n",
       "\n",
       "    .dataframe tbody tr th {\n",
       "        vertical-align: top;\n",
       "    }\n",
       "\n",
       "    .dataframe thead th {\n",
       "        text-align: right;\n",
       "    }\n",
       "</style>\n",
       "<table border=\"1\" class=\"dataframe\">\n",
       "  <thead>\n",
       "    <tr style=\"text-align: right;\">\n",
       "      <th></th>\n",
       "      <th>date</th>\n",
       "      <th>team1</th>\n",
       "      <th>team2</th>\n",
       "      <th>team1_offensive_to_commited</th>\n",
       "      <th>team2_offensive_to_commited</th>\n",
       "      <th>team1_points_scored</th>\n",
       "      <th>team2_points_scored</th>\n",
       "      <th>team1_avg_hangtime_pull</th>\n",
       "      <th>team2_avg_hangtime_pull</th>\n",
       "      <th>team1_catches</th>\n",
       "      <th>team2_catches</th>\n",
       "    </tr>\n",
       "  </thead>\n",
       "  <tbody>\n",
       "    <tr>\n",
       "      <th>0</th>\n",
       "      <td>6/15/2019 0:00</td>\n",
       "      <td>San Jose Spiders</td>\n",
       "      <td>Seattle Cascades</td>\n",
       "      <td>21</td>\n",
       "      <td>21</td>\n",
       "      <td>25</td>\n",
       "      <td>26</td>\n",
       "      <td>3.21291</td>\n",
       "      <td>6.85509</td>\n",
       "      <td>214</td>\n",
       "      <td>228</td>\n",
       "    </tr>\n",
       "    <tr>\n",
       "      <th>1</th>\n",
       "      <td>7/7/2019 0:00</td>\n",
       "      <td>San Diego Growlers</td>\n",
       "      <td>San Jose Spiders</td>\n",
       "      <td>19</td>\n",
       "      <td>25</td>\n",
       "      <td>26</td>\n",
       "      <td>20</td>\n",
       "      <td>6.88926</td>\n",
       "      <td>3.84738</td>\n",
       "      <td>223</td>\n",
       "      <td>191</td>\n",
       "    </tr>\n",
       "    <tr>\n",
       "      <th>2</th>\n",
       "      <td>4/12/2019 0:00</td>\n",
       "      <td>Los Angeles Aviators</td>\n",
       "      <td>San Jose Spiders</td>\n",
       "      <td>16</td>\n",
       "      <td>20</td>\n",
       "      <td>22</td>\n",
       "      <td>18</td>\n",
       "      <td>None</td>\n",
       "      <td>4.19111</td>\n",
       "      <td>180</td>\n",
       "      <td>202</td>\n",
       "    </tr>\n",
       "    <tr>\n",
       "      <th>3</th>\n",
       "      <td>4/13/2019 0:00</td>\n",
       "      <td>San Diego Growlers</td>\n",
       "      <td>San Jose Spiders</td>\n",
       "      <td>18</td>\n",
       "      <td>18</td>\n",
       "      <td>25</td>\n",
       "      <td>24</td>\n",
       "      <td>6.84872</td>\n",
       "      <td>3.58216</td>\n",
       "      <td>186</td>\n",
       "      <td>284</td>\n",
       "    </tr>\n",
       "    <tr>\n",
       "      <th>4</th>\n",
       "      <td>4/20/2019 0:00</td>\n",
       "      <td>San Diego Growlers</td>\n",
       "      <td>San Jose Spiders</td>\n",
       "      <td>25</td>\n",
       "      <td>31</td>\n",
       "      <td>21</td>\n",
       "      <td>16</td>\n",
       "      <td>5.56606</td>\n",
       "      <td>6.41614</td>\n",
       "      <td>174</td>\n",
       "      <td>228</td>\n",
       "    </tr>\n",
       "  </tbody>\n",
       "</table>\n",
       "</div>"
      ],
      "text/plain": [
       "             date                 team1             team2  \\\n",
       "0  6/15/2019 0:00      San Jose Spiders  Seattle Cascades   \n",
       "1   7/7/2019 0:00    San Diego Growlers  San Jose Spiders   \n",
       "2  4/12/2019 0:00  Los Angeles Aviators  San Jose Spiders   \n",
       "3  4/13/2019 0:00    San Diego Growlers  San Jose Spiders   \n",
       "4  4/20/2019 0:00    San Diego Growlers  San Jose Spiders   \n",
       "\n",
       "  team1_offensive_to_commited team2_offensive_to_commited team1_points_scored  \\\n",
       "0                          21                          21                  25   \n",
       "1                          19                          25                  26   \n",
       "2                          16                          20                  22   \n",
       "3                          18                          18                  25   \n",
       "4                          25                          31                  21   \n",
       "\n",
       "  team2_points_scored team1_avg_hangtime_pull team2_avg_hangtime_pull  \\\n",
       "0                  26                 3.21291                 6.85509   \n",
       "1                  20                 6.88926                 3.84738   \n",
       "2                  18                    None                 4.19111   \n",
       "3                  24                 6.84872                 3.58216   \n",
       "4                  16                 5.56606                 6.41614   \n",
       "\n",
       "  team1_catches team2_catches  \n",
       "0           214           228  \n",
       "1           223           191  \n",
       "2           180           202  \n",
       "3           186           284  \n",
       "4           174           228  "
      ]
     },
     "execution_count": 11,
     "metadata": {},
     "output_type": "execute_result"
    }
   ],
   "source": [
    "df_stats.head()"
   ]
  },
  {
   "cell_type": "markdown",
   "metadata": {},
   "source": [
    "***\n",
    "### Aggregate Season Statistics and Analyze\n",
    "* Season Total Turnovers By team\n",
    "* Boxplots of Offensive Turnovers Committed and Defensive Turnovers Forced for every team\n",
    "* Bar plot of Avg. Goal Scored and Avg. Goals Allowed, Sorted by Season +/-\n",
    "* Entire League-Wide Count of Catches per possession, Summarized in a Histogram with Negative Binomial Approximation overlayed"
   ]
  },
  {
   "cell_type": "code",
   "execution_count": 13,
   "metadata": {},
   "outputs": [
    {
     "data": {
      "text/html": [
       "<div>\n",
       "<style scoped>\n",
       "    .dataframe tbody tr th:only-of-type {\n",
       "        vertical-align: middle;\n",
       "    }\n",
       "\n",
       "    .dataframe tbody tr th {\n",
       "        vertical-align: top;\n",
       "    }\n",
       "\n",
       "    .dataframe thead th {\n",
       "        text-align: right;\n",
       "    }\n",
       "</style>\n",
       "<table border=\"1\" class=\"dataframe\">\n",
       "  <thead>\n",
       "    <tr style=\"text-align: right;\">\n",
       "      <th></th>\n",
       "      <th>Team</th>\n",
       "      <th>SeasonTurnovers</th>\n",
       "    </tr>\n",
       "  </thead>\n",
       "  <tbody>\n",
       "    <tr>\n",
       "      <th>0</th>\n",
       "      <td>San Jose Spiders</td>\n",
       "      <td>465</td>\n",
       "    </tr>\n",
       "    <tr>\n",
       "      <th>1</th>\n",
       "      <td>Seattle Cascades</td>\n",
       "      <td>465</td>\n",
       "    </tr>\n",
       "    <tr>\n",
       "      <th>2</th>\n",
       "      <td>Los Angeles Aviators</td>\n",
       "      <td>493</td>\n",
       "    </tr>\n",
       "    <tr>\n",
       "      <th>3</th>\n",
       "      <td>San Diego Growlers</td>\n",
       "      <td>471</td>\n",
       "    </tr>\n",
       "    <tr>\n",
       "      <th>4</th>\n",
       "      <td>Atlanta Hustle</td>\n",
       "      <td>387</td>\n",
       "    </tr>\n",
       "  </tbody>\n",
       "</table>\n",
       "</div>"
      ],
      "text/plain": [
       "                   Team SeasonTurnovers\n",
       "0      San Jose Spiders             465\n",
       "1      Seattle Cascades             465\n",
       "2  Los Angeles Aviators             493\n",
       "3    San Diego Growlers             471\n",
       "4        Atlanta Hustle             387"
      ]
     },
     "execution_count": 13,
     "metadata": {},
     "output_type": "execute_result"
    }
   ],
   "source": [
    "season_turnovers = get_season_total_turnovers(df_stats,teams_list)\n",
    "season_turnovers.head()"
   ]
  },
  {
   "cell_type": "code",
   "execution_count": 14,
   "metadata": {},
   "outputs": [
    {
     "data": {
      "application/vnd.plotly.v1+json": {
       "config": {
        "linkText": "Export to plot.ly",
        "plotlyServerURL": "https://plot.ly",
        "showLink": false
       },
       "data": [
        {
         "marker": {
          "color": "red",
          "line": {
           "color": "black"
          }
         },
         "name": "Raleigh Flyers",
         "type": "box",
         "x": [
          "Offense",
          "Defense",
          "Offense",
          "Defense",
          "Offense",
          "Defense",
          "Offense",
          "Defense",
          "Offense",
          "Defense",
          "Offense",
          "Defense",
          "Offense",
          "Defense",
          "Defense",
          "Offense",
          "Offense",
          "Defense",
          "Defense",
          "Offense",
          "Offense",
          "Defense",
          "Defense",
          "Offense",
          "Offense",
          "Defense"
         ],
         "y": [
          11,
          12,
          14,
          21,
          22,
          19,
          15,
          21,
          13,
          19,
          12,
          16,
          22,
          26,
          23,
          14,
          12,
          12,
          24,
          22,
          23,
          25,
          13,
          17,
          12,
          18
         ]
        },
        {
         "marker": {
          "color": "indigo",
          "line": {
           "color": "black"
          }
         },
         "name": "Atlanta Hustle",
         "type": "box",
         "x": [
          "Offense",
          "Defense",
          "Offense",
          "Defense",
          "Offense",
          "Defense",
          "Defense",
          "Offense",
          "Defense",
          "Offense",
          "Defense",
          "Offense",
          "Offense",
          "Defense",
          "Offense",
          "Defense",
          "Defense",
          "Offense",
          "Defense",
          "Offense",
          "Defense",
          "Offense",
          "Offense",
          "Defense"
         ],
         "y": [
          12,
          11,
          18,
          15,
          21,
          14,
          17,
          17,
          14,
          10,
          12,
          16,
          11,
          21,
          12,
          18,
          23,
          23,
          23,
          24,
          15,
          14,
          10,
          16
         ]
        },
        {
         "marker": {
          "color": "limegreen",
          "line": {
           "color": "black"
          }
         },
         "name": "New York Empire",
         "type": "box",
         "x": [
          "Offense",
          "Defense",
          "Offense",
          "Defense",
          "Defense",
          "Offense",
          "Offense",
          "Defense",
          "Offense",
          "Defense",
          "Offense",
          "Defense",
          "Offense",
          "Defense",
          "Offense",
          "Defense",
          "Offense",
          "Defense",
          "Defense",
          "Offense",
          "Offense",
          "Defense",
          "Offense",
          "Defense"
         ],
         "y": [
          11,
          15,
          22,
          31,
          17,
          13,
          16,
          18,
          20,
          25,
          15,
          20,
          18,
          18,
          12,
          12,
          17,
          21,
          18,
          14,
          13,
          15,
          16,
          19
         ]
        },
        {
         "marker": {
          "color": "black",
          "line": {
           "color": "black"
          }
         },
         "name": "San Diego Growlers",
         "type": "box",
         "x": [
          "Offense",
          "Defense",
          "Offense",
          "Defense",
          "Offense",
          "Defense",
          "Defense",
          "Offense",
          "Offense",
          "Defense",
          "Offense",
          "Defense",
          "Offense",
          "Defense",
          "Offense",
          "Defense",
          "Offense",
          "Defense",
          "Offense",
          "Defense",
          "Defense",
          "Offense",
          "Offense",
          "Defense",
          "Defense",
          "Offense"
         ],
         "y": [
          18,
          18,
          25,
          31,
          14,
          17,
          23,
          21,
          14,
          21,
          6,
          18,
          22,
          17,
          16,
          18,
          20,
          19,
          12,
          17,
          15,
          13,
          15,
          17,
          25,
          19
         ]
        },
        {
         "marker": {
          "color": "darkgreen",
          "line": {
           "color": "black"
          }
         },
         "name": "Indianapolis AlleyCats",
         "type": "box",
         "x": [
          "Offense",
          "Defense",
          "Defense",
          "Offense",
          "Offense",
          "Defense",
          "Offense",
          "Defense",
          "Offense",
          "Defense",
          "Offense",
          "Defense",
          "Defense",
          "Offense",
          "Defense",
          "Offense",
          "Defense",
          "Offense",
          "Defense",
          "Offense",
          "Offense",
          "Defense",
          "Offense",
          "Defense",
          "Offense",
          "Defense"
         ],
         "y": [
          15,
          12,
          23,
          18,
          16,
          20,
          14,
          10,
          32,
          33,
          21,
          20,
          18,
          16,
          18,
          15,
          14,
          13,
          14,
          9,
          25,
          18,
          18,
          24,
          13,
          14
         ]
        },
        {
         "marker": {
          "color": "crimson",
          "line": {
           "color": "black"
          }
         },
         "name": "Los Angeles Aviators",
         "type": "box",
         "x": [
          "Offense",
          "Defense",
          "Offense",
          "Defense",
          "Defense",
          "Offense",
          "Defense",
          "Offense",
          "Offense",
          "Defense",
          "Offense",
          "Defense",
          "Offense",
          "Defense",
          "Offense",
          "Defense",
          "Offense",
          "Defense",
          "Defense",
          "Offense",
          "Defense",
          "Offense",
          "Defense",
          "Offense",
          "Offense",
          "Defense"
         ],
         "y": [
          16,
          20,
          17,
          23,
          21,
          14,
          21,
          23,
          21,
          14,
          16,
          21,
          15,
          25,
          18,
          16,
          19,
          20,
          15,
          10,
          38,
          23,
          15,
          17,
          13,
          22
         ]
        },
        {
         "marker": {
          "color": "goldenrod",
          "line": {
           "color": "black"
          }
         },
         "name": "Madison Radicals",
         "type": "box",
         "x": [
          "Offense",
          "Defense",
          "Defense",
          "Offense",
          "Offense",
          "Defense",
          "Offense",
          "Defense",
          "Defense",
          "Offense",
          "Defense",
          "Offense",
          "Offense",
          "Defense",
          "Defense",
          "Offense",
          "Offense",
          "Defense",
          "Defense",
          "Offense",
          "Defense",
          "Offense",
          "Offense",
          "Defense"
         ],
         "y": [
          12,
          15,
          19,
          8,
          15,
          14,
          15,
          19,
          11,
          17,
          29,
          27,
          18,
          15,
          24,
          27,
          17,
          18,
          18,
          21,
          42,
          20,
          24,
          30
         ]
        },
        {
         "marker": {
          "color": "orangered",
          "line": {
           "color": "black"
          }
         },
         "name": "Chicago Wildfire",
         "type": "box",
         "x": [
          "Defense",
          "Offense",
          "Defense",
          "Offense",
          "Defense",
          "Offense",
          "Offense",
          "Defense",
          "Offense",
          "Defense",
          "Defense",
          "Offense",
          "Defense",
          "Offense",
          "Offense",
          "Defense",
          "Defense",
          "Offense",
          "Defense",
          "Offense",
          "Defense",
          "Offense",
          "Defense",
          "Offense",
          "Offense",
          "Defense"
         ],
         "y": [
          19,
          17,
          15,
          18,
          15,
          19,
          20,
          21,
          13,
          20,
          9,
          12,
          35,
          27,
          24,
          38,
          21,
          18,
          12,
          5,
          10,
          24,
          16,
          18,
          14,
          13
         ]
        },
        {
         "marker": {
          "color": "orange",
          "line": {
           "color": "black"
          }
         },
         "name": "Pittsburgh Thunderbirds",
         "type": "box",
         "x": [
          "Defense",
          "Offense",
          "Offense",
          "Defense",
          "Defense",
          "Offense",
          "Defense",
          "Offense",
          "Defense",
          "Offense",
          "Offense",
          "Defense",
          "Defense",
          "Offense",
          "Defense",
          "Offense",
          "Defense",
          "Offense",
          "Defense",
          "Offense",
          "Defense",
          "Offense",
          "Offense",
          "Defense",
          "Defense",
          "Offense",
          "Offense",
          "Defense"
         ],
         "y": [
          8,
          19,
          28,
          25,
          18,
          15,
          29,
          18,
          27,
          20,
          18,
          16,
          12,
          7,
          17,
          18,
          9,
          14,
          24,
          10,
          25,
          18,
          16,
          18,
          18,
          24,
          26,
          26
         ]
        },
        {
         "marker": {
          "color": "navy",
          "line": {
           "color": "black"
          }
         },
         "name": "DC Breeze",
         "type": "box",
         "x": [
          "Offense",
          "Defense",
          "Defense",
          "Offense",
          "Offense",
          "Defense",
          "Defense",
          "Offense",
          "Defense",
          "Offense",
          "Offense",
          "Defense",
          "Defense",
          "Offense",
          "Defense",
          "Offense",
          "Defense",
          "Offense",
          "Offense",
          "Defense"
         ],
         "y": [
          15,
          11,
          26,
          26,
          18,
          16,
          22,
          24,
          18,
          18,
          19,
          20,
          24,
          19,
          19,
          17,
          16,
          16,
          20,
          17
         ]
        },
        {
         "marker": {
          "color": "whitesmoke",
          "line": {
           "color": "black"
          }
         },
         "name": "Dallas Roughnecks",
         "type": "box",
         "x": [
          "Offense",
          "Defense",
          "Defense",
          "Offense",
          "Offense",
          "Defense",
          "Offense",
          "Defense",
          "Defense",
          "Offense",
          "Defense",
          "Offense",
          "Offense",
          "Defense",
          "Defense",
          "Offense",
          "Offense",
          "Defense",
          "Defense",
          "Offense",
          "Defense",
          "Offense",
          "Offense",
          "Defense",
          "Offense",
          "Defense"
         ],
         "y": [
          49,
          50,
          27,
          21,
          19,
          22,
          14,
          20,
          24,
          16,
          25,
          21,
          16,
          20,
          14,
          23,
          25,
          32,
          24,
          23,
          17,
          13,
          18,
          12,
          16,
          10
         ]
        },
        {
         "marker": {
          "color": "tomato",
          "line": {
           "color": "black"
          }
         },
         "name": "Toronto Rush",
         "type": "box",
         "x": [
          "Offense",
          "Defense",
          "Defense",
          "Offense",
          "Offense",
          "Defense",
          "Offense",
          "Defense",
          "Offense",
          "Defense",
          "Defense",
          "Offense",
          "Offense",
          "Defense",
          "Defense",
          "Offense",
          "Offense",
          "Defense",
          "Offense",
          "Defense",
          "Defense",
          "Offense",
          "Offense",
          "Defense",
          "Offense",
          "Defense",
          "Defense",
          "Offense"
         ],
         "y": [
          33,
          41,
          17,
          18,
          25,
          20,
          30,
          28,
          11,
          17,
          75,
          76,
          20,
          19,
          29,
          22,
          19,
          16,
          25,
          29,
          16,
          19,
          16,
          16,
          15,
          13,
          20,
          17
         ]
        },
        {
         "marker": {
          "color": "gold",
          "line": {
           "color": "black"
          }
         },
         "name": "San Jose Spiders",
         "type": "box",
         "x": [
          "Offense",
          "Defense",
          "Offense",
          "Defense",
          "Offense",
          "Defense",
          "Offense",
          "Defense",
          "Offense",
          "Defense",
          "Offense",
          "Defense",
          "Offense",
          "Defense",
          "Offense",
          "Defense",
          "Defense",
          "Offense",
          "Defense",
          "Offense",
          "Offense",
          "Defense",
          "Offense",
          "Defense"
         ],
         "y": [
          20,
          16,
          18,
          18,
          31,
          25,
          21,
          24,
          13,
          19,
          18,
          6,
          21,
          16,
          25,
          15,
          25,
          23,
          21,
          21,
          15,
          10,
          25,
          19
         ]
        },
        {
         "marker": {
          "color": "midnightblue",
          "line": {
           "color": "black"
          }
         },
         "name": "Seattle Cascades",
         "type": "box",
         "x": [
          "Defense",
          "Offense",
          "Offense",
          "Defense",
          "Defense",
          "Offense",
          "Offense",
          "Defense",
          "Offense",
          "Defense",
          "Offense",
          "Defense",
          "Offense",
          "Defense",
          "Offense",
          "Defense",
          "Defense",
          "Offense",
          "Offense",
          "Defense",
          "Defense",
          "Offense",
          "Offense",
          "Defense"
         ],
         "y": [
          17,
          23,
          17,
          14,
          14,
          21,
          24,
          21,
          19,
          13,
          17,
          22,
          25,
          23,
          21,
          21,
          12,
          17,
          15,
          13,
          23,
          38,
          22,
          13
         ]
        },
        {
         "marker": {
          "color": "royalblue",
          "line": {
           "color": "black"
          }
         },
         "name": "Montreal Royal",
         "type": "box",
         "x": [
          "Offense",
          "Defense",
          "Offense",
          "Defense",
          "Offense",
          "Defense",
          "Offense",
          "Defense",
          "Offense",
          "Defense",
          "Offense",
          "Defense",
          "Offense",
          "Defense",
          "Offense",
          "Defense",
          "Offense",
          "Defense"
         ],
         "y": [
          17,
          13,
          75,
          76,
          12,
          15,
          29,
          28,
          29,
          22,
          16,
          19,
          21,
          17,
          29,
          28,
          14,
          19
         ]
        },
        {
         "marker": {
          "color": "yellow",
          "line": {
           "color": "black"
          }
         },
         "name": "Tampa Bay Cannons",
         "type": "box",
         "x": [
          "Offense",
          "Defense",
          "Offense",
          "Defense",
          "Offense",
          "Defense",
          "Defense",
          "Offense",
          "Defense",
          "Offense",
          "Offense",
          "Defense",
          "Offense",
          "Defense",
          "Offense",
          "Defense",
          "Offense",
          "Defense",
          "Offense",
          "Defense",
          "Offense",
          "Defense",
          "Offense",
          "Defense"
         ],
         "y": [
          15,
          18,
          17,
          17,
          19,
          13,
          24,
          22,
          16,
          24,
          21,
          11,
          15,
          24,
          20,
          16,
          32,
          25,
          31,
          20,
          24,
          22,
          25,
          23
         ]
        },
        {
         "marker": {
          "color": "lightsteelblue",
          "line": {
           "color": "black"
          }
         },
         "name": "Minnesota Wind Chill",
         "type": "box",
         "x": [
          "Defense",
          "Offense",
          "Offense",
          "Defense",
          "Defense",
          "Offense",
          "Defense",
          "Offense",
          "Defense",
          "Offense",
          "Defense",
          "Offense",
          "Defense",
          "Offense",
          "Offense",
          "Defense",
          "Defense",
          "Offense",
          "Defense",
          "Offense",
          "Offense",
          "Defense",
          "Offense",
          "Defense"
         ],
         "y": [
          17,
          19,
          25,
          28,
          15,
          14,
          32,
          33,
          20,
          27,
          13,
          20,
          28,
          18,
          9,
          12,
          27,
          24,
          13,
          14,
          23,
          39,
          30,
          24
         ]
        },
        {
         "marker": {
          "color": "olivedrab",
          "line": {
           "color": "black"
          }
         },
         "name": "Ottawa Outlaws",
         "type": "box",
         "x": [
          "Offense",
          "Defense",
          "Defense",
          "Offense",
          "Offense",
          "Defense",
          "Defense",
          "Offense",
          "Offense",
          "Defense",
          "Offense",
          "Defense",
          "Offense",
          "Defense",
          "Offense",
          "Defense",
          "Defense",
          "Offense",
          "Defense",
          "Offense",
          "Offense",
          "Defense"
         ],
         "y": [
          41,
          33,
          18,
          17,
          22,
          24,
          15,
          20,
          34,
          29,
          15,
          12,
          28,
          29,
          29,
          25,
          14,
          18,
          30,
          29,
          19,
          14
         ]
        },
        {
         "marker": {
          "color": "blue",
          "line": {
           "color": "black"
          }
         },
         "name": "Austin Sol",
         "type": "box",
         "x": [
          "Defense",
          "Offense",
          "Defense",
          "Offense",
          "Defense",
          "Offense",
          "Defense",
          "Offense",
          "Offense",
          "Defense",
          "Defense",
          "Offense",
          "Defense",
          "Offense",
          "Offense",
          "Defense",
          "Offense",
          "Defense",
          "Defense",
          "Offense",
          "Defense",
          "Offense",
          "Defense",
          "Offense"
         ],
         "y": [
          49,
          50,
          21,
          27,
          15,
          21,
          14,
          20,
          24,
          22,
          21,
          25,
          12,
          18,
          26,
          22,
          24,
          15,
          23,
          23,
          31,
          20,
          14,
          15
         ]
        },
        {
         "marker": {
          "color": "firebrick",
          "line": {
           "color": "black"
          }
         },
         "name": "Philadelphia Phoenix",
         "type": "box",
         "x": [
          "Offense",
          "Defense",
          "Defense",
          "Offense",
          "Defense",
          "Offense",
          "Defense",
          "Offense",
          "Defense",
          "Offense",
          "Offense",
          "Defense",
          "Offense",
          "Defense",
          "Offense",
          "Defense",
          "Offense",
          "Defense",
          "Offense",
          "Defense"
         ],
         "y": [
          26,
          26,
          22,
          31,
          30,
          28,
          34,
          29,
          19,
          24,
          19,
          17,
          16,
          19,
          30,
          29,
          28,
          29,
          19,
          16
         ]
        },
        {
         "marker": {
          "color": "maroon",
          "line": {
           "color": "black"
          }
         },
         "name": "Detroit Mechanix",
         "type": "box",
         "x": [
          "Offense",
          "Defense",
          "Offense",
          "Defense",
          "Offense",
          "Defense",
          "Defense",
          "Offense",
          "Offense",
          "Defense",
          "Defense",
          "Offense",
          "Offense",
          "Defense",
          "Offense",
          "Defense",
          "Offense",
          "Defense",
          "Offense",
          "Defense",
          "Offense",
          "Defense",
          "Offense",
          "Defense"
         ],
         "y": [
          23,
          18,
          20,
          16,
          29,
          18,
          27,
          29,
          28,
          18,
          7,
          12,
          35,
          27,
          38,
          24,
          39,
          23,
          12,
          5,
          42,
          20,
          26,
          26
         ]
        }
       ],
       "layout": {
        "boxmode": "group",
        "plot_bgcolor": "rgb(220,220,220)",
        "template": {
         "data": {
          "bar": [
           {
            "error_x": {
             "color": "#2a3f5f"
            },
            "error_y": {
             "color": "#2a3f5f"
            },
            "marker": {
             "line": {
              "color": "#E5ECF6",
              "width": 0.5
             }
            },
            "type": "bar"
           }
          ],
          "barpolar": [
           {
            "marker": {
             "line": {
              "color": "#E5ECF6",
              "width": 0.5
             }
            },
            "type": "barpolar"
           }
          ],
          "carpet": [
           {
            "aaxis": {
             "endlinecolor": "#2a3f5f",
             "gridcolor": "white",
             "linecolor": "white",
             "minorgridcolor": "white",
             "startlinecolor": "#2a3f5f"
            },
            "baxis": {
             "endlinecolor": "#2a3f5f",
             "gridcolor": "white",
             "linecolor": "white",
             "minorgridcolor": "white",
             "startlinecolor": "#2a3f5f"
            },
            "type": "carpet"
           }
          ],
          "choropleth": [
           {
            "colorbar": {
             "outlinewidth": 0,
             "ticks": ""
            },
            "type": "choropleth"
           }
          ],
          "contour": [
           {
            "colorbar": {
             "outlinewidth": 0,
             "ticks": ""
            },
            "colorscale": [
             [
              0,
              "#0d0887"
             ],
             [
              0.1111111111111111,
              "#46039f"
             ],
             [
              0.2222222222222222,
              "#7201a8"
             ],
             [
              0.3333333333333333,
              "#9c179e"
             ],
             [
              0.4444444444444444,
              "#bd3786"
             ],
             [
              0.5555555555555556,
              "#d8576b"
             ],
             [
              0.6666666666666666,
              "#ed7953"
             ],
             [
              0.7777777777777778,
              "#fb9f3a"
             ],
             [
              0.8888888888888888,
              "#fdca26"
             ],
             [
              1,
              "#f0f921"
             ]
            ],
            "type": "contour"
           }
          ],
          "contourcarpet": [
           {
            "colorbar": {
             "outlinewidth": 0,
             "ticks": ""
            },
            "type": "contourcarpet"
           }
          ],
          "heatmap": [
           {
            "colorbar": {
             "outlinewidth": 0,
             "ticks": ""
            },
            "colorscale": [
             [
              0,
              "#0d0887"
             ],
             [
              0.1111111111111111,
              "#46039f"
             ],
             [
              0.2222222222222222,
              "#7201a8"
             ],
             [
              0.3333333333333333,
              "#9c179e"
             ],
             [
              0.4444444444444444,
              "#bd3786"
             ],
             [
              0.5555555555555556,
              "#d8576b"
             ],
             [
              0.6666666666666666,
              "#ed7953"
             ],
             [
              0.7777777777777778,
              "#fb9f3a"
             ],
             [
              0.8888888888888888,
              "#fdca26"
             ],
             [
              1,
              "#f0f921"
             ]
            ],
            "type": "heatmap"
           }
          ],
          "heatmapgl": [
           {
            "colorbar": {
             "outlinewidth": 0,
             "ticks": ""
            },
            "colorscale": [
             [
              0,
              "#0d0887"
             ],
             [
              0.1111111111111111,
              "#46039f"
             ],
             [
              0.2222222222222222,
              "#7201a8"
             ],
             [
              0.3333333333333333,
              "#9c179e"
             ],
             [
              0.4444444444444444,
              "#bd3786"
             ],
             [
              0.5555555555555556,
              "#d8576b"
             ],
             [
              0.6666666666666666,
              "#ed7953"
             ],
             [
              0.7777777777777778,
              "#fb9f3a"
             ],
             [
              0.8888888888888888,
              "#fdca26"
             ],
             [
              1,
              "#f0f921"
             ]
            ],
            "type": "heatmapgl"
           }
          ],
          "histogram": [
           {
            "marker": {
             "colorbar": {
              "outlinewidth": 0,
              "ticks": ""
             }
            },
            "type": "histogram"
           }
          ],
          "histogram2d": [
           {
            "colorbar": {
             "outlinewidth": 0,
             "ticks": ""
            },
            "colorscale": [
             [
              0,
              "#0d0887"
             ],
             [
              0.1111111111111111,
              "#46039f"
             ],
             [
              0.2222222222222222,
              "#7201a8"
             ],
             [
              0.3333333333333333,
              "#9c179e"
             ],
             [
              0.4444444444444444,
              "#bd3786"
             ],
             [
              0.5555555555555556,
              "#d8576b"
             ],
             [
              0.6666666666666666,
              "#ed7953"
             ],
             [
              0.7777777777777778,
              "#fb9f3a"
             ],
             [
              0.8888888888888888,
              "#fdca26"
             ],
             [
              1,
              "#f0f921"
             ]
            ],
            "type": "histogram2d"
           }
          ],
          "histogram2dcontour": [
           {
            "colorbar": {
             "outlinewidth": 0,
             "ticks": ""
            },
            "colorscale": [
             [
              0,
              "#0d0887"
             ],
             [
              0.1111111111111111,
              "#46039f"
             ],
             [
              0.2222222222222222,
              "#7201a8"
             ],
             [
              0.3333333333333333,
              "#9c179e"
             ],
             [
              0.4444444444444444,
              "#bd3786"
             ],
             [
              0.5555555555555556,
              "#d8576b"
             ],
             [
              0.6666666666666666,
              "#ed7953"
             ],
             [
              0.7777777777777778,
              "#fb9f3a"
             ],
             [
              0.8888888888888888,
              "#fdca26"
             ],
             [
              1,
              "#f0f921"
             ]
            ],
            "type": "histogram2dcontour"
           }
          ],
          "mesh3d": [
           {
            "colorbar": {
             "outlinewidth": 0,
             "ticks": ""
            },
            "type": "mesh3d"
           }
          ],
          "parcoords": [
           {
            "line": {
             "colorbar": {
              "outlinewidth": 0,
              "ticks": ""
             }
            },
            "type": "parcoords"
           }
          ],
          "scatter": [
           {
            "marker": {
             "colorbar": {
              "outlinewidth": 0,
              "ticks": ""
             }
            },
            "type": "scatter"
           }
          ],
          "scatter3d": [
           {
            "line": {
             "colorbar": {
              "outlinewidth": 0,
              "ticks": ""
             }
            },
            "marker": {
             "colorbar": {
              "outlinewidth": 0,
              "ticks": ""
             }
            },
            "type": "scatter3d"
           }
          ],
          "scattercarpet": [
           {
            "marker": {
             "colorbar": {
              "outlinewidth": 0,
              "ticks": ""
             }
            },
            "type": "scattercarpet"
           }
          ],
          "scattergeo": [
           {
            "marker": {
             "colorbar": {
              "outlinewidth": 0,
              "ticks": ""
             }
            },
            "type": "scattergeo"
           }
          ],
          "scattergl": [
           {
            "marker": {
             "colorbar": {
              "outlinewidth": 0,
              "ticks": ""
             }
            },
            "type": "scattergl"
           }
          ],
          "scattermapbox": [
           {
            "marker": {
             "colorbar": {
              "outlinewidth": 0,
              "ticks": ""
             }
            },
            "type": "scattermapbox"
           }
          ],
          "scatterpolar": [
           {
            "marker": {
             "colorbar": {
              "outlinewidth": 0,
              "ticks": ""
             }
            },
            "type": "scatterpolar"
           }
          ],
          "scatterpolargl": [
           {
            "marker": {
             "colorbar": {
              "outlinewidth": 0,
              "ticks": ""
             }
            },
            "type": "scatterpolargl"
           }
          ],
          "scatterternary": [
           {
            "marker": {
             "colorbar": {
              "outlinewidth": 0,
              "ticks": ""
             }
            },
            "type": "scatterternary"
           }
          ],
          "surface": [
           {
            "colorbar": {
             "outlinewidth": 0,
             "ticks": ""
            },
            "colorscale": [
             [
              0,
              "#0d0887"
             ],
             [
              0.1111111111111111,
              "#46039f"
             ],
             [
              0.2222222222222222,
              "#7201a8"
             ],
             [
              0.3333333333333333,
              "#9c179e"
             ],
             [
              0.4444444444444444,
              "#bd3786"
             ],
             [
              0.5555555555555556,
              "#d8576b"
             ],
             [
              0.6666666666666666,
              "#ed7953"
             ],
             [
              0.7777777777777778,
              "#fb9f3a"
             ],
             [
              0.8888888888888888,
              "#fdca26"
             ],
             [
              1,
              "#f0f921"
             ]
            ],
            "type": "surface"
           }
          ],
          "table": [
           {
            "cells": {
             "fill": {
              "color": "#EBF0F8"
             },
             "line": {
              "color": "white"
             }
            },
            "header": {
             "fill": {
              "color": "#C8D4E3"
             },
             "line": {
              "color": "white"
             }
            },
            "type": "table"
           }
          ]
         },
         "layout": {
          "annotationdefaults": {
           "arrowcolor": "#2a3f5f",
           "arrowhead": 0,
           "arrowwidth": 1
          },
          "colorscale": {
           "diverging": [
            [
             0,
             "#8e0152"
            ],
            [
             0.1,
             "#c51b7d"
            ],
            [
             0.2,
             "#de77ae"
            ],
            [
             0.3,
             "#f1b6da"
            ],
            [
             0.4,
             "#fde0ef"
            ],
            [
             0.5,
             "#f7f7f7"
            ],
            [
             0.6,
             "#e6f5d0"
            ],
            [
             0.7,
             "#b8e186"
            ],
            [
             0.8,
             "#7fbc41"
            ],
            [
             0.9,
             "#4d9221"
            ],
            [
             1,
             "#276419"
            ]
           ],
           "sequential": [
            [
             0,
             "#0d0887"
            ],
            [
             0.1111111111111111,
             "#46039f"
            ],
            [
             0.2222222222222222,
             "#7201a8"
            ],
            [
             0.3333333333333333,
             "#9c179e"
            ],
            [
             0.4444444444444444,
             "#bd3786"
            ],
            [
             0.5555555555555556,
             "#d8576b"
            ],
            [
             0.6666666666666666,
             "#ed7953"
            ],
            [
             0.7777777777777778,
             "#fb9f3a"
            ],
            [
             0.8888888888888888,
             "#fdca26"
            ],
            [
             1,
             "#f0f921"
            ]
           ],
           "sequentialminus": [
            [
             0,
             "#0d0887"
            ],
            [
             0.1111111111111111,
             "#46039f"
            ],
            [
             0.2222222222222222,
             "#7201a8"
            ],
            [
             0.3333333333333333,
             "#9c179e"
            ],
            [
             0.4444444444444444,
             "#bd3786"
            ],
            [
             0.5555555555555556,
             "#d8576b"
            ],
            [
             0.6666666666666666,
             "#ed7953"
            ],
            [
             0.7777777777777778,
             "#fb9f3a"
            ],
            [
             0.8888888888888888,
             "#fdca26"
            ],
            [
             1,
             "#f0f921"
            ]
           ]
          },
          "colorway": [
           "#636efa",
           "#EF553B",
           "#00cc96",
           "#ab63fa",
           "#FFA15A",
           "#19d3f3",
           "#FF6692",
           "#B6E880",
           "#FF97FF",
           "#FECB52"
          ],
          "font": {
           "color": "#2a3f5f"
          },
          "geo": {
           "bgcolor": "white",
           "lakecolor": "white",
           "landcolor": "#E5ECF6",
           "showlakes": true,
           "showland": true,
           "subunitcolor": "white"
          },
          "hoverlabel": {
           "align": "left"
          },
          "hovermode": "closest",
          "mapbox": {
           "style": "light"
          },
          "paper_bgcolor": "white",
          "plot_bgcolor": "#E5ECF6",
          "polar": {
           "angularaxis": {
            "gridcolor": "white",
            "linecolor": "white",
            "ticks": ""
           },
           "bgcolor": "#E5ECF6",
           "radialaxis": {
            "gridcolor": "white",
            "linecolor": "white",
            "ticks": ""
           }
          },
          "scene": {
           "xaxis": {
            "backgroundcolor": "#E5ECF6",
            "gridcolor": "white",
            "gridwidth": 2,
            "linecolor": "white",
            "showbackground": true,
            "ticks": "",
            "zerolinecolor": "white"
           },
           "yaxis": {
            "backgroundcolor": "#E5ECF6",
            "gridcolor": "white",
            "gridwidth": 2,
            "linecolor": "white",
            "showbackground": true,
            "ticks": "",
            "zerolinecolor": "white"
           },
           "zaxis": {
            "backgroundcolor": "#E5ECF6",
            "gridcolor": "white",
            "gridwidth": 2,
            "linecolor": "white",
            "showbackground": true,
            "ticks": "",
            "zerolinecolor": "white"
           }
          },
          "shapedefaults": {
           "line": {
            "color": "#2a3f5f"
           }
          },
          "ternary": {
           "aaxis": {
            "gridcolor": "white",
            "linecolor": "white",
            "ticks": ""
           },
           "baxis": {
            "gridcolor": "white",
            "linecolor": "white",
            "ticks": ""
           },
           "bgcolor": "#E5ECF6",
           "caxis": {
            "gridcolor": "white",
            "linecolor": "white",
            "ticks": ""
           }
          },
          "title": {
           "x": 0.05
          },
          "xaxis": {
           "automargin": true,
           "gridcolor": "white",
           "linecolor": "white",
           "ticks": "",
           "zerolinecolor": "white",
           "zerolinewidth": 2
          },
          "yaxis": {
           "automargin": true,
           "gridcolor": "white",
           "linecolor": "white",
           "ticks": "",
           "zerolinecolor": "white",
           "zerolinewidth": 2
          }
         }
        },
        "title": {
         "text": "Turnovers Committed (O) and Turnovers Forced (D), 2019 Season"
        },
        "xaxis": {
         "title": {
          "text": "Team"
         }
        },
        "yaxis": {
         "title": {
          "text": "Count of Turnovers"
         }
        }
       }
      },
      "text/html": [
       "<div>\n",
       "        \n",
       "        \n",
       "            <div id=\"875c7cdf-08ac-497d-b581-78ee52b31c8f\" class=\"plotly-graph-div\" style=\"height:525px; width:100%;\"></div>\n",
       "            <script type=\"text/javascript\">\n",
       "                require([\"plotly\"], function(Plotly) {\n",
       "                    window.PLOTLYENV=window.PLOTLYENV || {};\n",
       "                    \n",
       "                if (document.getElementById(\"875c7cdf-08ac-497d-b581-78ee52b31c8f\")) {\n",
       "                    Plotly.newPlot(\n",
       "                        '875c7cdf-08ac-497d-b581-78ee52b31c8f',\n",
       "                        [{\"marker\": {\"color\": \"red\", \"line\": {\"color\": \"black\"}}, \"name\": \"Raleigh Flyers\", \"type\": \"box\", \"x\": [\"Offense\", \"Defense\", \"Offense\", \"Defense\", \"Offense\", \"Defense\", \"Offense\", \"Defense\", \"Offense\", \"Defense\", \"Offense\", \"Defense\", \"Offense\", \"Defense\", \"Defense\", \"Offense\", \"Offense\", \"Defense\", \"Defense\", \"Offense\", \"Offense\", \"Defense\", \"Defense\", \"Offense\", \"Offense\", \"Defense\"], \"y\": [11, 12, 14, 21, 22, 19, 15, 21, 13, 19, 12, 16, 22, 26, 23, 14, 12, 12, 24, 22, 23, 25, 13, 17, 12, 18]}, {\"marker\": {\"color\": \"indigo\", \"line\": {\"color\": \"black\"}}, \"name\": \"Atlanta Hustle\", \"type\": \"box\", \"x\": [\"Offense\", \"Defense\", \"Offense\", \"Defense\", \"Offense\", \"Defense\", \"Defense\", \"Offense\", \"Defense\", \"Offense\", \"Defense\", \"Offense\", \"Offense\", \"Defense\", \"Offense\", \"Defense\", \"Defense\", \"Offense\", \"Defense\", \"Offense\", \"Defense\", \"Offense\", \"Offense\", \"Defense\"], \"y\": [12, 11, 18, 15, 21, 14, 17, 17, 14, 10, 12, 16, 11, 21, 12, 18, 23, 23, 23, 24, 15, 14, 10, 16]}, {\"marker\": {\"color\": \"limegreen\", \"line\": {\"color\": \"black\"}}, \"name\": \"New York Empire\", \"type\": \"box\", \"x\": [\"Offense\", \"Defense\", \"Offense\", \"Defense\", \"Defense\", \"Offense\", \"Offense\", \"Defense\", \"Offense\", \"Defense\", \"Offense\", \"Defense\", \"Offense\", \"Defense\", \"Offense\", \"Defense\", \"Offense\", \"Defense\", \"Defense\", \"Offense\", \"Offense\", \"Defense\", \"Offense\", \"Defense\"], \"y\": [11, 15, 22, 31, 17, 13, 16, 18, 20, 25, 15, 20, 18, 18, 12, 12, 17, 21, 18, 14, 13, 15, 16, 19]}, {\"marker\": {\"color\": \"black\", \"line\": {\"color\": \"black\"}}, \"name\": \"San Diego Growlers\", \"type\": \"box\", \"x\": [\"Offense\", \"Defense\", \"Offense\", \"Defense\", \"Offense\", \"Defense\", \"Defense\", \"Offense\", \"Offense\", \"Defense\", \"Offense\", \"Defense\", \"Offense\", \"Defense\", \"Offense\", \"Defense\", \"Offense\", \"Defense\", \"Offense\", \"Defense\", \"Defense\", \"Offense\", \"Offense\", \"Defense\", \"Defense\", \"Offense\"], \"y\": [18, 18, 25, 31, 14, 17, 23, 21, 14, 21, 6, 18, 22, 17, 16, 18, 20, 19, 12, 17, 15, 13, 15, 17, 25, 19]}, {\"marker\": {\"color\": \"darkgreen\", \"line\": {\"color\": \"black\"}}, \"name\": \"Indianapolis AlleyCats\", \"type\": \"box\", \"x\": [\"Offense\", \"Defense\", \"Defense\", \"Offense\", \"Offense\", \"Defense\", \"Offense\", \"Defense\", \"Offense\", \"Defense\", \"Offense\", \"Defense\", \"Defense\", \"Offense\", \"Defense\", \"Offense\", \"Defense\", \"Offense\", \"Defense\", \"Offense\", \"Offense\", \"Defense\", \"Offense\", \"Defense\", \"Offense\", \"Defense\"], \"y\": [15, 12, 23, 18, 16, 20, 14, 10, 32, 33, 21, 20, 18, 16, 18, 15, 14, 13, 14, 9, 25, 18, 18, 24, 13, 14]}, {\"marker\": {\"color\": \"crimson\", \"line\": {\"color\": \"black\"}}, \"name\": \"Los Angeles Aviators\", \"type\": \"box\", \"x\": [\"Offense\", \"Defense\", \"Offense\", \"Defense\", \"Defense\", \"Offense\", \"Defense\", \"Offense\", \"Offense\", \"Defense\", \"Offense\", \"Defense\", \"Offense\", \"Defense\", \"Offense\", \"Defense\", \"Offense\", \"Defense\", \"Defense\", \"Offense\", \"Defense\", \"Offense\", \"Defense\", \"Offense\", \"Offense\", \"Defense\"], \"y\": [16, 20, 17, 23, 21, 14, 21, 23, 21, 14, 16, 21, 15, 25, 18, 16, 19, 20, 15, 10, 38, 23, 15, 17, 13, 22]}, {\"marker\": {\"color\": \"goldenrod\", \"line\": {\"color\": \"black\"}}, \"name\": \"Madison Radicals\", \"type\": \"box\", \"x\": [\"Offense\", \"Defense\", \"Defense\", \"Offense\", \"Offense\", \"Defense\", \"Offense\", \"Defense\", \"Defense\", \"Offense\", \"Defense\", \"Offense\", \"Offense\", \"Defense\", \"Defense\", \"Offense\", \"Offense\", \"Defense\", \"Defense\", \"Offense\", \"Defense\", \"Offense\", \"Offense\", \"Defense\"], \"y\": [12, 15, 19, 8, 15, 14, 15, 19, 11, 17, 29, 27, 18, 15, 24, 27, 17, 18, 18, 21, 42, 20, 24, 30]}, {\"marker\": {\"color\": \"orangered\", \"line\": {\"color\": \"black\"}}, \"name\": \"Chicago Wildfire\", \"type\": \"box\", \"x\": [\"Defense\", \"Offense\", \"Defense\", \"Offense\", \"Defense\", \"Offense\", \"Offense\", \"Defense\", \"Offense\", \"Defense\", \"Defense\", \"Offense\", \"Defense\", \"Offense\", \"Offense\", \"Defense\", \"Defense\", \"Offense\", \"Defense\", \"Offense\", \"Defense\", \"Offense\", \"Defense\", \"Offense\", \"Offense\", \"Defense\"], \"y\": [19, 17, 15, 18, 15, 19, 20, 21, 13, 20, 9, 12, 35, 27, 24, 38, 21, 18, 12, 5, 10, 24, 16, 18, 14, 13]}, {\"marker\": {\"color\": \"orange\", \"line\": {\"color\": \"black\"}}, \"name\": \"Pittsburgh Thunderbirds\", \"type\": \"box\", \"x\": [\"Defense\", \"Offense\", \"Offense\", \"Defense\", \"Defense\", \"Offense\", \"Defense\", \"Offense\", \"Defense\", \"Offense\", \"Offense\", \"Defense\", \"Defense\", \"Offense\", \"Defense\", \"Offense\", \"Defense\", \"Offense\", \"Defense\", \"Offense\", \"Defense\", \"Offense\", \"Offense\", \"Defense\", \"Defense\", \"Offense\", \"Offense\", \"Defense\"], \"y\": [8, 19, 28, 25, 18, 15, 29, 18, 27, 20, 18, 16, 12, 7, 17, 18, 9, 14, 24, 10, 25, 18, 16, 18, 18, 24, 26, 26]}, {\"marker\": {\"color\": \"navy\", \"line\": {\"color\": \"black\"}}, \"name\": \"DC Breeze\", \"type\": \"box\", \"x\": [\"Offense\", \"Defense\", \"Defense\", \"Offense\", \"Offense\", \"Defense\", \"Defense\", \"Offense\", \"Defense\", \"Offense\", \"Offense\", \"Defense\", \"Defense\", \"Offense\", \"Defense\", \"Offense\", \"Defense\", \"Offense\", \"Offense\", \"Defense\"], \"y\": [15, 11, 26, 26, 18, 16, 22, 24, 18, 18, 19, 20, 24, 19, 19, 17, 16, 16, 20, 17]}, {\"marker\": {\"color\": \"whitesmoke\", \"line\": {\"color\": \"black\"}}, \"name\": \"Dallas Roughnecks\", \"type\": \"box\", \"x\": [\"Offense\", \"Defense\", \"Defense\", \"Offense\", \"Offense\", \"Defense\", \"Offense\", \"Defense\", \"Defense\", \"Offense\", \"Defense\", \"Offense\", \"Offense\", \"Defense\", \"Defense\", \"Offense\", \"Offense\", \"Defense\", \"Defense\", \"Offense\", \"Defense\", \"Offense\", \"Offense\", \"Defense\", \"Offense\", \"Defense\"], \"y\": [49, 50, 27, 21, 19, 22, 14, 20, 24, 16, 25, 21, 16, 20, 14, 23, 25, 32, 24, 23, 17, 13, 18, 12, 16, 10]}, {\"marker\": {\"color\": \"tomato\", \"line\": {\"color\": \"black\"}}, \"name\": \"Toronto Rush\", \"type\": \"box\", \"x\": [\"Offense\", \"Defense\", \"Defense\", \"Offense\", \"Offense\", \"Defense\", \"Offense\", \"Defense\", \"Offense\", \"Defense\", \"Defense\", \"Offense\", \"Offense\", \"Defense\", \"Defense\", \"Offense\", \"Offense\", \"Defense\", \"Offense\", \"Defense\", \"Defense\", \"Offense\", \"Offense\", \"Defense\", \"Offense\", \"Defense\", \"Defense\", \"Offense\"], \"y\": [33, 41, 17, 18, 25, 20, 30, 28, 11, 17, 75, 76, 20, 19, 29, 22, 19, 16, 25, 29, 16, 19, 16, 16, 15, 13, 20, 17]}, {\"marker\": {\"color\": \"gold\", \"line\": {\"color\": \"black\"}}, \"name\": \"San Jose Spiders\", \"type\": \"box\", \"x\": [\"Offense\", \"Defense\", \"Offense\", \"Defense\", \"Offense\", \"Defense\", \"Offense\", \"Defense\", \"Offense\", \"Defense\", \"Offense\", \"Defense\", \"Offense\", \"Defense\", \"Offense\", \"Defense\", \"Defense\", \"Offense\", \"Defense\", \"Offense\", \"Offense\", \"Defense\", \"Offense\", \"Defense\"], \"y\": [20, 16, 18, 18, 31, 25, 21, 24, 13, 19, 18, 6, 21, 16, 25, 15, 25, 23, 21, 21, 15, 10, 25, 19]}, {\"marker\": {\"color\": \"midnightblue\", \"line\": {\"color\": \"black\"}}, \"name\": \"Seattle Cascades\", \"type\": \"box\", \"x\": [\"Defense\", \"Offense\", \"Offense\", \"Defense\", \"Defense\", \"Offense\", \"Offense\", \"Defense\", \"Offense\", \"Defense\", \"Offense\", \"Defense\", \"Offense\", \"Defense\", \"Offense\", \"Defense\", \"Defense\", \"Offense\", \"Offense\", \"Defense\", \"Defense\", \"Offense\", \"Offense\", \"Defense\"], \"y\": [17, 23, 17, 14, 14, 21, 24, 21, 19, 13, 17, 22, 25, 23, 21, 21, 12, 17, 15, 13, 23, 38, 22, 13]}, {\"marker\": {\"color\": \"royalblue\", \"line\": {\"color\": \"black\"}}, \"name\": \"Montreal Royal\", \"type\": \"box\", \"x\": [\"Offense\", \"Defense\", \"Offense\", \"Defense\", \"Offense\", \"Defense\", \"Offense\", \"Defense\", \"Offense\", \"Defense\", \"Offense\", \"Defense\", \"Offense\", \"Defense\", \"Offense\", \"Defense\", \"Offense\", \"Defense\"], \"y\": [17, 13, 75, 76, 12, 15, 29, 28, 29, 22, 16, 19, 21, 17, 29, 28, 14, 19]}, {\"marker\": {\"color\": \"yellow\", \"line\": {\"color\": \"black\"}}, \"name\": \"Tampa Bay Cannons\", \"type\": \"box\", \"x\": [\"Offense\", \"Defense\", \"Offense\", \"Defense\", \"Offense\", \"Defense\", \"Defense\", \"Offense\", \"Defense\", \"Offense\", \"Offense\", \"Defense\", \"Offense\", \"Defense\", \"Offense\", \"Defense\", \"Offense\", \"Defense\", \"Offense\", \"Defense\", \"Offense\", \"Defense\", \"Offense\", \"Defense\"], \"y\": [15, 18, 17, 17, 19, 13, 24, 22, 16, 24, 21, 11, 15, 24, 20, 16, 32, 25, 31, 20, 24, 22, 25, 23]}, {\"marker\": {\"color\": \"lightsteelblue\", \"line\": {\"color\": \"black\"}}, \"name\": \"Minnesota Wind Chill\", \"type\": \"box\", \"x\": [\"Defense\", \"Offense\", \"Offense\", \"Defense\", \"Defense\", \"Offense\", \"Defense\", \"Offense\", \"Defense\", \"Offense\", \"Defense\", \"Offense\", \"Defense\", \"Offense\", \"Offense\", \"Defense\", \"Defense\", \"Offense\", \"Defense\", \"Offense\", \"Offense\", \"Defense\", \"Offense\", \"Defense\"], \"y\": [17, 19, 25, 28, 15, 14, 32, 33, 20, 27, 13, 20, 28, 18, 9, 12, 27, 24, 13, 14, 23, 39, 30, 24]}, {\"marker\": {\"color\": \"olivedrab\", \"line\": {\"color\": \"black\"}}, \"name\": \"Ottawa Outlaws\", \"type\": \"box\", \"x\": [\"Offense\", \"Defense\", \"Defense\", \"Offense\", \"Offense\", \"Defense\", \"Defense\", \"Offense\", \"Offense\", \"Defense\", \"Offense\", \"Defense\", \"Offense\", \"Defense\", \"Offense\", \"Defense\", \"Defense\", \"Offense\", \"Defense\", \"Offense\", \"Offense\", \"Defense\"], \"y\": [41, 33, 18, 17, 22, 24, 15, 20, 34, 29, 15, 12, 28, 29, 29, 25, 14, 18, 30, 29, 19, 14]}, {\"marker\": {\"color\": \"blue\", \"line\": {\"color\": \"black\"}}, \"name\": \"Austin Sol\", \"type\": \"box\", \"x\": [\"Defense\", \"Offense\", \"Defense\", \"Offense\", \"Defense\", \"Offense\", \"Defense\", \"Offense\", \"Offense\", \"Defense\", \"Defense\", \"Offense\", \"Defense\", \"Offense\", \"Offense\", \"Defense\", \"Offense\", \"Defense\", \"Defense\", \"Offense\", \"Defense\", \"Offense\", \"Defense\", \"Offense\"], \"y\": [49, 50, 21, 27, 15, 21, 14, 20, 24, 22, 21, 25, 12, 18, 26, 22, 24, 15, 23, 23, 31, 20, 14, 15]}, {\"marker\": {\"color\": \"firebrick\", \"line\": {\"color\": \"black\"}}, \"name\": \"Philadelphia Phoenix\", \"type\": \"box\", \"x\": [\"Offense\", \"Defense\", \"Defense\", \"Offense\", \"Defense\", \"Offense\", \"Defense\", \"Offense\", \"Defense\", \"Offense\", \"Offense\", \"Defense\", \"Offense\", \"Defense\", \"Offense\", \"Defense\", \"Offense\", \"Defense\", \"Offense\", \"Defense\"], \"y\": [26, 26, 22, 31, 30, 28, 34, 29, 19, 24, 19, 17, 16, 19, 30, 29, 28, 29, 19, 16]}, {\"marker\": {\"color\": \"maroon\", \"line\": {\"color\": \"black\"}}, \"name\": \"Detroit Mechanix\", \"type\": \"box\", \"x\": [\"Offense\", \"Defense\", \"Offense\", \"Defense\", \"Offense\", \"Defense\", \"Defense\", \"Offense\", \"Offense\", \"Defense\", \"Defense\", \"Offense\", \"Offense\", \"Defense\", \"Offense\", \"Defense\", \"Offense\", \"Defense\", \"Offense\", \"Defense\", \"Offense\", \"Defense\", \"Offense\", \"Defense\"], \"y\": [23, 18, 20, 16, 29, 18, 27, 29, 28, 18, 7, 12, 35, 27, 38, 24, 39, 23, 12, 5, 42, 20, 26, 26]}],\n",
       "                        {\"boxmode\": \"group\", \"plot_bgcolor\": \"rgb(220,220,220)\", \"template\": {\"data\": {\"bar\": [{\"error_x\": {\"color\": \"#2a3f5f\"}, \"error_y\": {\"color\": \"#2a3f5f\"}, \"marker\": {\"line\": {\"color\": \"#E5ECF6\", \"width\": 0.5}}, \"type\": \"bar\"}], \"barpolar\": [{\"marker\": {\"line\": {\"color\": \"#E5ECF6\", \"width\": 0.5}}, \"type\": \"barpolar\"}], \"carpet\": [{\"aaxis\": {\"endlinecolor\": \"#2a3f5f\", \"gridcolor\": \"white\", \"linecolor\": \"white\", \"minorgridcolor\": \"white\", \"startlinecolor\": \"#2a3f5f\"}, \"baxis\": {\"endlinecolor\": \"#2a3f5f\", \"gridcolor\": \"white\", \"linecolor\": \"white\", \"minorgridcolor\": \"white\", \"startlinecolor\": \"#2a3f5f\"}, \"type\": \"carpet\"}], \"choropleth\": [{\"colorbar\": {\"outlinewidth\": 0, \"ticks\": \"\"}, \"type\": \"choropleth\"}], \"contour\": [{\"colorbar\": {\"outlinewidth\": 0, \"ticks\": \"\"}, \"colorscale\": [[0.0, \"#0d0887\"], [0.1111111111111111, \"#46039f\"], [0.2222222222222222, \"#7201a8\"], [0.3333333333333333, \"#9c179e\"], [0.4444444444444444, \"#bd3786\"], [0.5555555555555556, \"#d8576b\"], [0.6666666666666666, \"#ed7953\"], [0.7777777777777778, \"#fb9f3a\"], [0.8888888888888888, \"#fdca26\"], [1.0, \"#f0f921\"]], \"type\": \"contour\"}], \"contourcarpet\": [{\"colorbar\": {\"outlinewidth\": 0, \"ticks\": \"\"}, \"type\": \"contourcarpet\"}], \"heatmap\": [{\"colorbar\": {\"outlinewidth\": 0, \"ticks\": \"\"}, \"colorscale\": [[0.0, \"#0d0887\"], [0.1111111111111111, \"#46039f\"], [0.2222222222222222, \"#7201a8\"], [0.3333333333333333, \"#9c179e\"], [0.4444444444444444, \"#bd3786\"], [0.5555555555555556, \"#d8576b\"], [0.6666666666666666, \"#ed7953\"], [0.7777777777777778, \"#fb9f3a\"], [0.8888888888888888, \"#fdca26\"], [1.0, \"#f0f921\"]], \"type\": \"heatmap\"}], \"heatmapgl\": [{\"colorbar\": {\"outlinewidth\": 0, \"ticks\": \"\"}, \"colorscale\": [[0.0, \"#0d0887\"], [0.1111111111111111, \"#46039f\"], [0.2222222222222222, \"#7201a8\"], [0.3333333333333333, \"#9c179e\"], [0.4444444444444444, \"#bd3786\"], [0.5555555555555556, \"#d8576b\"], [0.6666666666666666, \"#ed7953\"], [0.7777777777777778, \"#fb9f3a\"], [0.8888888888888888, \"#fdca26\"], [1.0, \"#f0f921\"]], \"type\": \"heatmapgl\"}], \"histogram\": [{\"marker\": {\"colorbar\": {\"outlinewidth\": 0, \"ticks\": \"\"}}, \"type\": \"histogram\"}], \"histogram2d\": [{\"colorbar\": {\"outlinewidth\": 0, \"ticks\": \"\"}, \"colorscale\": [[0.0, \"#0d0887\"], [0.1111111111111111, \"#46039f\"], [0.2222222222222222, \"#7201a8\"], [0.3333333333333333, \"#9c179e\"], [0.4444444444444444, \"#bd3786\"], [0.5555555555555556, \"#d8576b\"], [0.6666666666666666, \"#ed7953\"], [0.7777777777777778, \"#fb9f3a\"], [0.8888888888888888, \"#fdca26\"], [1.0, \"#f0f921\"]], \"type\": \"histogram2d\"}], \"histogram2dcontour\": [{\"colorbar\": {\"outlinewidth\": 0, \"ticks\": \"\"}, \"colorscale\": [[0.0, \"#0d0887\"], [0.1111111111111111, \"#46039f\"], [0.2222222222222222, \"#7201a8\"], [0.3333333333333333, \"#9c179e\"], [0.4444444444444444, \"#bd3786\"], [0.5555555555555556, \"#d8576b\"], [0.6666666666666666, \"#ed7953\"], [0.7777777777777778, \"#fb9f3a\"], [0.8888888888888888, \"#fdca26\"], [1.0, \"#f0f921\"]], \"type\": \"histogram2dcontour\"}], \"mesh3d\": [{\"colorbar\": {\"outlinewidth\": 0, \"ticks\": \"\"}, \"type\": \"mesh3d\"}], \"parcoords\": [{\"line\": {\"colorbar\": {\"outlinewidth\": 0, \"ticks\": \"\"}}, \"type\": \"parcoords\"}], \"scatter\": [{\"marker\": {\"colorbar\": {\"outlinewidth\": 0, \"ticks\": \"\"}}, \"type\": \"scatter\"}], \"scatter3d\": [{\"line\": {\"colorbar\": {\"outlinewidth\": 0, \"ticks\": \"\"}}, \"marker\": {\"colorbar\": {\"outlinewidth\": 0, \"ticks\": \"\"}}, \"type\": \"scatter3d\"}], \"scattercarpet\": [{\"marker\": {\"colorbar\": {\"outlinewidth\": 0, \"ticks\": \"\"}}, \"type\": \"scattercarpet\"}], \"scattergeo\": [{\"marker\": {\"colorbar\": {\"outlinewidth\": 0, \"ticks\": \"\"}}, \"type\": \"scattergeo\"}], \"scattergl\": [{\"marker\": {\"colorbar\": {\"outlinewidth\": 0, \"ticks\": \"\"}}, \"type\": \"scattergl\"}], \"scattermapbox\": [{\"marker\": {\"colorbar\": {\"outlinewidth\": 0, \"ticks\": \"\"}}, \"type\": \"scattermapbox\"}], \"scatterpolar\": [{\"marker\": {\"colorbar\": {\"outlinewidth\": 0, \"ticks\": \"\"}}, \"type\": \"scatterpolar\"}], \"scatterpolargl\": [{\"marker\": {\"colorbar\": {\"outlinewidth\": 0, \"ticks\": \"\"}}, \"type\": \"scatterpolargl\"}], \"scatterternary\": [{\"marker\": {\"colorbar\": {\"outlinewidth\": 0, \"ticks\": \"\"}}, \"type\": \"scatterternary\"}], \"surface\": [{\"colorbar\": {\"outlinewidth\": 0, \"ticks\": \"\"}, \"colorscale\": [[0.0, \"#0d0887\"], [0.1111111111111111, \"#46039f\"], [0.2222222222222222, \"#7201a8\"], [0.3333333333333333, \"#9c179e\"], [0.4444444444444444, \"#bd3786\"], [0.5555555555555556, \"#d8576b\"], [0.6666666666666666, \"#ed7953\"], [0.7777777777777778, \"#fb9f3a\"], [0.8888888888888888, \"#fdca26\"], [1.0, \"#f0f921\"]], \"type\": \"surface\"}], \"table\": [{\"cells\": {\"fill\": {\"color\": \"#EBF0F8\"}, \"line\": {\"color\": \"white\"}}, \"header\": {\"fill\": {\"color\": \"#C8D4E3\"}, \"line\": {\"color\": \"white\"}}, \"type\": \"table\"}]}, \"layout\": {\"annotationdefaults\": {\"arrowcolor\": \"#2a3f5f\", \"arrowhead\": 0, \"arrowwidth\": 1}, \"colorscale\": {\"diverging\": [[0, \"#8e0152\"], [0.1, \"#c51b7d\"], [0.2, \"#de77ae\"], [0.3, \"#f1b6da\"], [0.4, \"#fde0ef\"], [0.5, \"#f7f7f7\"], [0.6, \"#e6f5d0\"], [0.7, \"#b8e186\"], [0.8, \"#7fbc41\"], [0.9, \"#4d9221\"], [1, \"#276419\"]], \"sequential\": [[0.0, \"#0d0887\"], [0.1111111111111111, \"#46039f\"], [0.2222222222222222, \"#7201a8\"], [0.3333333333333333, \"#9c179e\"], [0.4444444444444444, \"#bd3786\"], [0.5555555555555556, \"#d8576b\"], [0.6666666666666666, \"#ed7953\"], [0.7777777777777778, \"#fb9f3a\"], [0.8888888888888888, \"#fdca26\"], [1.0, \"#f0f921\"]], \"sequentialminus\": [[0.0, \"#0d0887\"], [0.1111111111111111, \"#46039f\"], [0.2222222222222222, \"#7201a8\"], [0.3333333333333333, \"#9c179e\"], [0.4444444444444444, \"#bd3786\"], [0.5555555555555556, \"#d8576b\"], [0.6666666666666666, \"#ed7953\"], [0.7777777777777778, \"#fb9f3a\"], [0.8888888888888888, \"#fdca26\"], [1.0, \"#f0f921\"]]}, \"colorway\": [\"#636efa\", \"#EF553B\", \"#00cc96\", \"#ab63fa\", \"#FFA15A\", \"#19d3f3\", \"#FF6692\", \"#B6E880\", \"#FF97FF\", \"#FECB52\"], \"font\": {\"color\": \"#2a3f5f\"}, \"geo\": {\"bgcolor\": \"white\", \"lakecolor\": \"white\", \"landcolor\": \"#E5ECF6\", \"showlakes\": true, \"showland\": true, \"subunitcolor\": \"white\"}, \"hoverlabel\": {\"align\": \"left\"}, \"hovermode\": \"closest\", \"mapbox\": {\"style\": \"light\"}, \"paper_bgcolor\": \"white\", \"plot_bgcolor\": \"#E5ECF6\", \"polar\": {\"angularaxis\": {\"gridcolor\": \"white\", \"linecolor\": \"white\", \"ticks\": \"\"}, \"bgcolor\": \"#E5ECF6\", \"radialaxis\": {\"gridcolor\": \"white\", \"linecolor\": \"white\", \"ticks\": \"\"}}, \"scene\": {\"xaxis\": {\"backgroundcolor\": \"#E5ECF6\", \"gridcolor\": \"white\", \"gridwidth\": 2, \"linecolor\": \"white\", \"showbackground\": true, \"ticks\": \"\", \"zerolinecolor\": \"white\"}, \"yaxis\": {\"backgroundcolor\": \"#E5ECF6\", \"gridcolor\": \"white\", \"gridwidth\": 2, \"linecolor\": \"white\", \"showbackground\": true, \"ticks\": \"\", \"zerolinecolor\": \"white\"}, \"zaxis\": {\"backgroundcolor\": \"#E5ECF6\", \"gridcolor\": \"white\", \"gridwidth\": 2, \"linecolor\": \"white\", \"showbackground\": true, \"ticks\": \"\", \"zerolinecolor\": \"white\"}}, \"shapedefaults\": {\"line\": {\"color\": \"#2a3f5f\"}}, \"ternary\": {\"aaxis\": {\"gridcolor\": \"white\", \"linecolor\": \"white\", \"ticks\": \"\"}, \"baxis\": {\"gridcolor\": \"white\", \"linecolor\": \"white\", \"ticks\": \"\"}, \"bgcolor\": \"#E5ECF6\", \"caxis\": {\"gridcolor\": \"white\", \"linecolor\": \"white\", \"ticks\": \"\"}}, \"title\": {\"x\": 0.05}, \"xaxis\": {\"automargin\": true, \"gridcolor\": \"white\", \"linecolor\": \"white\", \"ticks\": \"\", \"zerolinecolor\": \"white\", \"zerolinewidth\": 2}, \"yaxis\": {\"automargin\": true, \"gridcolor\": \"white\", \"linecolor\": \"white\", \"ticks\": \"\", \"zerolinecolor\": \"white\", \"zerolinewidth\": 2}}}, \"title\": {\"text\": \"Turnovers Committed (O) and Turnovers Forced (D), 2019 Season\"}, \"xaxis\": {\"title\": {\"text\": \"Team\"}}, \"yaxis\": {\"title\": {\"text\": \"Count of Turnovers\"}}},\n",
       "                        {\"responsive\": true}\n",
       "                    ).then(function(){\n",
       "                            \n",
       "var gd = document.getElementById('875c7cdf-08ac-497d-b581-78ee52b31c8f');\n",
       "var x = new MutationObserver(function (mutations, observer) {{\n",
       "        var display = window.getComputedStyle(gd).display;\n",
       "        if (!display || display === 'none') {{\n",
       "            console.log([gd, 'removed!']);\n",
       "            Plotly.purge(gd);\n",
       "            observer.disconnect();\n",
       "        }}\n",
       "}});\n",
       "\n",
       "// Listen for the removal of the full notebook cells\n",
       "var notebookContainer = gd.closest('#notebook-container');\n",
       "if (notebookContainer) {{\n",
       "    x.observe(notebookContainer, {childList: true});\n",
       "}}\n",
       "\n",
       "// Listen for the clearing of the current output cell\n",
       "var outputEl = gd.closest('.output');\n",
       "if (outputEl) {{\n",
       "    x.observe(outputEl, {childList: true});\n",
       "}}\n",
       "\n",
       "                        })\n",
       "                };\n",
       "                });\n",
       "            </script>\n",
       "        </div>"
      ]
     },
     "metadata": {},
     "output_type": "display_data"
    }
   ],
   "source": [
    "iplot(plot_turnovers(df_stats,teams_list,teams_col_dict,sort_by='offense'))"
   ]
  },
  {
   "cell_type": "code",
   "execution_count": 12,
   "metadata": {
    "scrolled": false
   },
   "outputs": [
    {
     "data": {
      "application/vnd.plotly.v1+json": {
       "config": {
        "linkText": "Export to plot.ly",
        "plotlyServerURL": "https://plot.ly",
        "showLink": false
       },
       "data": [
        {
         "hovertext": [
          "San Diego Growlers +/- : 41",
          "New York Empire +/- : 41",
          "Los Angeles Aviators +/- : 39",
          "Raleigh Flyers +/- : 38",
          "Pittsburgh Thunderbirds +/- : 28",
          "Madison Radicals +/- : 27",
          "Toronto Rush +/- : 21",
          "Dallas Roughnecks +/- : 17",
          "Chicago Wildfire +/- : 14",
          "Indianapolis AlleyCats +/- : 12",
          "Minnesota Wind Chill +/- : 9",
          "Atlanta Hustle +/- : 5",
          "DC Breeze +/- : 0",
          "Philadelphia Phoenix +/- : -12",
          "Montreal Royal +/- : -13",
          "Austin Sol +/- : -25",
          "Ottawa Outlaws +/- : -29",
          "Tampa Bay Cannons +/- : -31",
          "San Jose Spiders +/- : -37",
          "Seattle Cascades +/- : -43",
          "Detroit Mechanix +/- : -102"
         ],
         "marker": {
          "color": [
           "black",
           "limegreen",
           "crimson",
           "red",
           "orange",
           "goldenrod",
           "tomato",
           "whitesmoke",
           "orangered",
           "darkgreen",
           "lightsteelblue",
           "indigo",
           "navy",
           "firebrick",
           "royalblue",
           "blue",
           "olivedrab",
           "yellow",
           "gold",
           "midnightblue",
           "maroon"
          ],
          "line": {
           "color": "black",
           "width": 2
          }
         },
         "name": "Goals Scored (Offense)",
         "opacity": 0.6,
         "text": [
          23.846153846153847,
          22.666666666666668,
          23.53846153846154,
          22.53846153846154,
          21.214285714285715,
          20.75,
          25.214285714285715,
          21,
          20.846153846153847,
          20.307692307692307,
          21.75,
          20.5,
          21,
          19.3,
          26.444444444444443,
          19.083333333333332,
          19.181818181818183,
          19.333333333333332,
          22,
          21.916666666666668,
          14.5
         ],
         "textfont": {
          "family": "sans serif",
          "size": 12
         },
         "textposition": "auto",
         "type": "bar",
         "x": [
          "San Diego Growlers",
          "New York Empire",
          "Los Angeles Aviators",
          "Raleigh Flyers",
          "Pittsburgh Thunderbirds",
          "Madison Radicals",
          "Toronto Rush",
          "Dallas Roughnecks",
          "Chicago Wildfire",
          "Indianapolis AlleyCats",
          "Minnesota Wind Chill",
          "Atlanta Hustle",
          "DC Breeze",
          "Philadelphia Phoenix",
          "Montreal Royal",
          "Austin Sol",
          "Ottawa Outlaws",
          "Tampa Bay Cannons",
          "San Jose Spiders",
          "Seattle Cascades",
          "Detroit Mechanix"
         ],
         "y": [
          23.846153846153847,
          22.666666666666668,
          23.53846153846154,
          22.53846153846154,
          21.214285714285715,
          20.75,
          25.214285714285715,
          21,
          20.846153846153847,
          20.307692307692307,
          21.75,
          20.5,
          21,
          19.3,
          26.444444444444443,
          19.083333333333332,
          19.181818181818183,
          19.333333333333332,
          22,
          21.916666666666668,
          14.5
         ]
        },
        {
         "hovertext": [
          "San Diego Growlers +/- : 41",
          "New York Empire +/- : 41",
          "Los Angeles Aviators +/- : 39",
          "Raleigh Flyers +/- : 38",
          "Pittsburgh Thunderbirds +/- : 28",
          "Madison Radicals +/- : 27",
          "Toronto Rush +/- : 21",
          "Dallas Roughnecks +/- : 17",
          "Chicago Wildfire +/- : 14",
          "Indianapolis AlleyCats +/- : 12",
          "Minnesota Wind Chill +/- : 9",
          "Atlanta Hustle +/- : 5",
          "DC Breeze +/- : 0",
          "Philadelphia Phoenix +/- : -12",
          "Montreal Royal +/- : -13",
          "Austin Sol +/- : -25",
          "Ottawa Outlaws +/- : -29",
          "Tampa Bay Cannons +/- : -31",
          "San Jose Spiders +/- : -37",
          "Seattle Cascades +/- : -43",
          "Detroit Mechanix +/- : -102"
         ],
         "marker": {
          "color": [
           "black",
           "limegreen",
           "crimson",
           "red",
           "orange",
           "goldenrod",
           "tomato",
           "whitesmoke",
           "orangered",
           "darkgreen",
           "lightsteelblue",
           "indigo",
           "navy",
           "firebrick",
           "royalblue",
           "blue",
           "olivedrab",
           "yellow",
           "gold",
           "midnightblue",
           "maroon"
          ],
          "line": {
           "color": "black",
           "width": 2
          }
         },
         "name": "Goals Allowed (Defense)",
         "opacity": 0.3,
         "text": [
          20.692307692307693,
          19.25,
          20.53846153846154,
          19.615384615384617,
          19.214285714285715,
          18.5,
          23.714285714285715,
          19.692307692307693,
          19.76923076923077,
          19.384615384615383,
          21,
          20.083333333333332,
          21,
          20.5,
          27.88888888888889,
          21.166666666666668,
          21.818181818181817,
          21.916666666666668,
          25.083333333333332,
          25.5,
          23
         ],
         "textfont": {
          "family": "sans serif",
          "size": 12
         },
         "textposition": "auto",
         "type": "bar",
         "x": [
          "San Diego Growlers",
          "New York Empire",
          "Los Angeles Aviators",
          "Raleigh Flyers",
          "Pittsburgh Thunderbirds",
          "Madison Radicals",
          "Toronto Rush",
          "Dallas Roughnecks",
          "Chicago Wildfire",
          "Indianapolis AlleyCats",
          "Minnesota Wind Chill",
          "Atlanta Hustle",
          "DC Breeze",
          "Philadelphia Phoenix",
          "Montreal Royal",
          "Austin Sol",
          "Ottawa Outlaws",
          "Tampa Bay Cannons",
          "San Jose Spiders",
          "Seattle Cascades",
          "Detroit Mechanix"
         ],
         "y": [
          20.692307692307693,
          19.25,
          20.53846153846154,
          19.615384615384617,
          19.214285714285715,
          18.5,
          23.714285714285715,
          19.692307692307693,
          19.76923076923077,
          19.384615384615383,
          21,
          20.083333333333332,
          21,
          20.5,
          27.88888888888889,
          21.166666666666668,
          21.818181818181817,
          21.916666666666668,
          25.083333333333332,
          25.5,
          23
         ]
        }
       ],
       "layout": {
        "bargap": 0.15,
        "bargroupgap": 0.1,
        "plot_bgcolor": "rgb(220,220,220)",
        "template": {
         "data": {
          "bar": [
           {
            "error_x": {
             "color": "#2a3f5f"
            },
            "error_y": {
             "color": "#2a3f5f"
            },
            "marker": {
             "line": {
              "color": "#E5ECF6",
              "width": 0.5
             }
            },
            "type": "bar"
           }
          ],
          "barpolar": [
           {
            "marker": {
             "line": {
              "color": "#E5ECF6",
              "width": 0.5
             }
            },
            "type": "barpolar"
           }
          ],
          "carpet": [
           {
            "aaxis": {
             "endlinecolor": "#2a3f5f",
             "gridcolor": "white",
             "linecolor": "white",
             "minorgridcolor": "white",
             "startlinecolor": "#2a3f5f"
            },
            "baxis": {
             "endlinecolor": "#2a3f5f",
             "gridcolor": "white",
             "linecolor": "white",
             "minorgridcolor": "white",
             "startlinecolor": "#2a3f5f"
            },
            "type": "carpet"
           }
          ],
          "choropleth": [
           {
            "colorbar": {
             "outlinewidth": 0,
             "ticks": ""
            },
            "type": "choropleth"
           }
          ],
          "contour": [
           {
            "colorbar": {
             "outlinewidth": 0,
             "ticks": ""
            },
            "colorscale": [
             [
              0,
              "#0d0887"
             ],
             [
              0.1111111111111111,
              "#46039f"
             ],
             [
              0.2222222222222222,
              "#7201a8"
             ],
             [
              0.3333333333333333,
              "#9c179e"
             ],
             [
              0.4444444444444444,
              "#bd3786"
             ],
             [
              0.5555555555555556,
              "#d8576b"
             ],
             [
              0.6666666666666666,
              "#ed7953"
             ],
             [
              0.7777777777777778,
              "#fb9f3a"
             ],
             [
              0.8888888888888888,
              "#fdca26"
             ],
             [
              1,
              "#f0f921"
             ]
            ],
            "type": "contour"
           }
          ],
          "contourcarpet": [
           {
            "colorbar": {
             "outlinewidth": 0,
             "ticks": ""
            },
            "type": "contourcarpet"
           }
          ],
          "heatmap": [
           {
            "colorbar": {
             "outlinewidth": 0,
             "ticks": ""
            },
            "colorscale": [
             [
              0,
              "#0d0887"
             ],
             [
              0.1111111111111111,
              "#46039f"
             ],
             [
              0.2222222222222222,
              "#7201a8"
             ],
             [
              0.3333333333333333,
              "#9c179e"
             ],
             [
              0.4444444444444444,
              "#bd3786"
             ],
             [
              0.5555555555555556,
              "#d8576b"
             ],
             [
              0.6666666666666666,
              "#ed7953"
             ],
             [
              0.7777777777777778,
              "#fb9f3a"
             ],
             [
              0.8888888888888888,
              "#fdca26"
             ],
             [
              1,
              "#f0f921"
             ]
            ],
            "type": "heatmap"
           }
          ],
          "heatmapgl": [
           {
            "colorbar": {
             "outlinewidth": 0,
             "ticks": ""
            },
            "colorscale": [
             [
              0,
              "#0d0887"
             ],
             [
              0.1111111111111111,
              "#46039f"
             ],
             [
              0.2222222222222222,
              "#7201a8"
             ],
             [
              0.3333333333333333,
              "#9c179e"
             ],
             [
              0.4444444444444444,
              "#bd3786"
             ],
             [
              0.5555555555555556,
              "#d8576b"
             ],
             [
              0.6666666666666666,
              "#ed7953"
             ],
             [
              0.7777777777777778,
              "#fb9f3a"
             ],
             [
              0.8888888888888888,
              "#fdca26"
             ],
             [
              1,
              "#f0f921"
             ]
            ],
            "type": "heatmapgl"
           }
          ],
          "histogram": [
           {
            "marker": {
             "colorbar": {
              "outlinewidth": 0,
              "ticks": ""
             }
            },
            "type": "histogram"
           }
          ],
          "histogram2d": [
           {
            "colorbar": {
             "outlinewidth": 0,
             "ticks": ""
            },
            "colorscale": [
             [
              0,
              "#0d0887"
             ],
             [
              0.1111111111111111,
              "#46039f"
             ],
             [
              0.2222222222222222,
              "#7201a8"
             ],
             [
              0.3333333333333333,
              "#9c179e"
             ],
             [
              0.4444444444444444,
              "#bd3786"
             ],
             [
              0.5555555555555556,
              "#d8576b"
             ],
             [
              0.6666666666666666,
              "#ed7953"
             ],
             [
              0.7777777777777778,
              "#fb9f3a"
             ],
             [
              0.8888888888888888,
              "#fdca26"
             ],
             [
              1,
              "#f0f921"
             ]
            ],
            "type": "histogram2d"
           }
          ],
          "histogram2dcontour": [
           {
            "colorbar": {
             "outlinewidth": 0,
             "ticks": ""
            },
            "colorscale": [
             [
              0,
              "#0d0887"
             ],
             [
              0.1111111111111111,
              "#46039f"
             ],
             [
              0.2222222222222222,
              "#7201a8"
             ],
             [
              0.3333333333333333,
              "#9c179e"
             ],
             [
              0.4444444444444444,
              "#bd3786"
             ],
             [
              0.5555555555555556,
              "#d8576b"
             ],
             [
              0.6666666666666666,
              "#ed7953"
             ],
             [
              0.7777777777777778,
              "#fb9f3a"
             ],
             [
              0.8888888888888888,
              "#fdca26"
             ],
             [
              1,
              "#f0f921"
             ]
            ],
            "type": "histogram2dcontour"
           }
          ],
          "mesh3d": [
           {
            "colorbar": {
             "outlinewidth": 0,
             "ticks": ""
            },
            "type": "mesh3d"
           }
          ],
          "parcoords": [
           {
            "line": {
             "colorbar": {
              "outlinewidth": 0,
              "ticks": ""
             }
            },
            "type": "parcoords"
           }
          ],
          "scatter": [
           {
            "marker": {
             "colorbar": {
              "outlinewidth": 0,
              "ticks": ""
             }
            },
            "type": "scatter"
           }
          ],
          "scatter3d": [
           {
            "line": {
             "colorbar": {
              "outlinewidth": 0,
              "ticks": ""
             }
            },
            "marker": {
             "colorbar": {
              "outlinewidth": 0,
              "ticks": ""
             }
            },
            "type": "scatter3d"
           }
          ],
          "scattercarpet": [
           {
            "marker": {
             "colorbar": {
              "outlinewidth": 0,
              "ticks": ""
             }
            },
            "type": "scattercarpet"
           }
          ],
          "scattergeo": [
           {
            "marker": {
             "colorbar": {
              "outlinewidth": 0,
              "ticks": ""
             }
            },
            "type": "scattergeo"
           }
          ],
          "scattergl": [
           {
            "marker": {
             "colorbar": {
              "outlinewidth": 0,
              "ticks": ""
             }
            },
            "type": "scattergl"
           }
          ],
          "scattermapbox": [
           {
            "marker": {
             "colorbar": {
              "outlinewidth": 0,
              "ticks": ""
             }
            },
            "type": "scattermapbox"
           }
          ],
          "scatterpolar": [
           {
            "marker": {
             "colorbar": {
              "outlinewidth": 0,
              "ticks": ""
             }
            },
            "type": "scatterpolar"
           }
          ],
          "scatterpolargl": [
           {
            "marker": {
             "colorbar": {
              "outlinewidth": 0,
              "ticks": ""
             }
            },
            "type": "scatterpolargl"
           }
          ],
          "scatterternary": [
           {
            "marker": {
             "colorbar": {
              "outlinewidth": 0,
              "ticks": ""
             }
            },
            "type": "scatterternary"
           }
          ],
          "surface": [
           {
            "colorbar": {
             "outlinewidth": 0,
             "ticks": ""
            },
            "colorscale": [
             [
              0,
              "#0d0887"
             ],
             [
              0.1111111111111111,
              "#46039f"
             ],
             [
              0.2222222222222222,
              "#7201a8"
             ],
             [
              0.3333333333333333,
              "#9c179e"
             ],
             [
              0.4444444444444444,
              "#bd3786"
             ],
             [
              0.5555555555555556,
              "#d8576b"
             ],
             [
              0.6666666666666666,
              "#ed7953"
             ],
             [
              0.7777777777777778,
              "#fb9f3a"
             ],
             [
              0.8888888888888888,
              "#fdca26"
             ],
             [
              1,
              "#f0f921"
             ]
            ],
            "type": "surface"
           }
          ],
          "table": [
           {
            "cells": {
             "fill": {
              "color": "#EBF0F8"
             },
             "line": {
              "color": "white"
             }
            },
            "header": {
             "fill": {
              "color": "#C8D4E3"
             },
             "line": {
              "color": "white"
             }
            },
            "type": "table"
           }
          ]
         },
         "layout": {
          "annotationdefaults": {
           "arrowcolor": "#2a3f5f",
           "arrowhead": 0,
           "arrowwidth": 1
          },
          "colorscale": {
           "diverging": [
            [
             0,
             "#8e0152"
            ],
            [
             0.1,
             "#c51b7d"
            ],
            [
             0.2,
             "#de77ae"
            ],
            [
             0.3,
             "#f1b6da"
            ],
            [
             0.4,
             "#fde0ef"
            ],
            [
             0.5,
             "#f7f7f7"
            ],
            [
             0.6,
             "#e6f5d0"
            ],
            [
             0.7,
             "#b8e186"
            ],
            [
             0.8,
             "#7fbc41"
            ],
            [
             0.9,
             "#4d9221"
            ],
            [
             1,
             "#276419"
            ]
           ],
           "sequential": [
            [
             0,
             "#0d0887"
            ],
            [
             0.1111111111111111,
             "#46039f"
            ],
            [
             0.2222222222222222,
             "#7201a8"
            ],
            [
             0.3333333333333333,
             "#9c179e"
            ],
            [
             0.4444444444444444,
             "#bd3786"
            ],
            [
             0.5555555555555556,
             "#d8576b"
            ],
            [
             0.6666666666666666,
             "#ed7953"
            ],
            [
             0.7777777777777778,
             "#fb9f3a"
            ],
            [
             0.8888888888888888,
             "#fdca26"
            ],
            [
             1,
             "#f0f921"
            ]
           ],
           "sequentialminus": [
            [
             0,
             "#0d0887"
            ],
            [
             0.1111111111111111,
             "#46039f"
            ],
            [
             0.2222222222222222,
             "#7201a8"
            ],
            [
             0.3333333333333333,
             "#9c179e"
            ],
            [
             0.4444444444444444,
             "#bd3786"
            ],
            [
             0.5555555555555556,
             "#d8576b"
            ],
            [
             0.6666666666666666,
             "#ed7953"
            ],
            [
             0.7777777777777778,
             "#fb9f3a"
            ],
            [
             0.8888888888888888,
             "#fdca26"
            ],
            [
             1,
             "#f0f921"
            ]
           ]
          },
          "colorway": [
           "#636efa",
           "#EF553B",
           "#00cc96",
           "#ab63fa",
           "#FFA15A",
           "#19d3f3",
           "#FF6692",
           "#B6E880",
           "#FF97FF",
           "#FECB52"
          ],
          "font": {
           "color": "#2a3f5f"
          },
          "geo": {
           "bgcolor": "white",
           "lakecolor": "white",
           "landcolor": "#E5ECF6",
           "showlakes": true,
           "showland": true,
           "subunitcolor": "white"
          },
          "hoverlabel": {
           "align": "left"
          },
          "hovermode": "closest",
          "mapbox": {
           "style": "light"
          },
          "paper_bgcolor": "white",
          "plot_bgcolor": "#E5ECF6",
          "polar": {
           "angularaxis": {
            "gridcolor": "white",
            "linecolor": "white",
            "ticks": ""
           },
           "bgcolor": "#E5ECF6",
           "radialaxis": {
            "gridcolor": "white",
            "linecolor": "white",
            "ticks": ""
           }
          },
          "scene": {
           "xaxis": {
            "backgroundcolor": "#E5ECF6",
            "gridcolor": "white",
            "gridwidth": 2,
            "linecolor": "white",
            "showbackground": true,
            "ticks": "",
            "zerolinecolor": "white"
           },
           "yaxis": {
            "backgroundcolor": "#E5ECF6",
            "gridcolor": "white",
            "gridwidth": 2,
            "linecolor": "white",
            "showbackground": true,
            "ticks": "",
            "zerolinecolor": "white"
           },
           "zaxis": {
            "backgroundcolor": "#E5ECF6",
            "gridcolor": "white",
            "gridwidth": 2,
            "linecolor": "white",
            "showbackground": true,
            "ticks": "",
            "zerolinecolor": "white"
           }
          },
          "shapedefaults": {
           "line": {
            "color": "#2a3f5f"
           }
          },
          "ternary": {
           "aaxis": {
            "gridcolor": "white",
            "linecolor": "white",
            "ticks": ""
           },
           "baxis": {
            "gridcolor": "white",
            "linecolor": "white",
            "ticks": ""
           },
           "bgcolor": "#E5ECF6",
           "caxis": {
            "gridcolor": "white",
            "linecolor": "white",
            "ticks": ""
           }
          },
          "title": {
           "x": 0.05
          },
          "xaxis": {
           "automargin": true,
           "gridcolor": "white",
           "linecolor": "white",
           "ticks": "",
           "zerolinecolor": "white",
           "zerolinewidth": 2
          },
          "yaxis": {
           "automargin": true,
           "gridcolor": "white",
           "linecolor": "white",
           "ticks": "",
           "zerolinecolor": "white",
           "zerolinewidth": 2
          }
         }
        },
        "title": {
         "text": "Goals Scored (O) and Goals Allowed (D), 2019 Season - Sorted By +/- (Descending, Left to Right)"
        },
        "xaxis": {
         "title": {
          "text": "Team"
         }
        },
        "yaxis": {
         "title": {
          "text": "Count of Goals (2019 Season Totals)"
         }
        }
       }
      },
      "text/html": [
       "<div>\n",
       "        \n",
       "        \n",
       "            <div id=\"3d9c0ec1-6d8f-4471-8612-1567493da633\" class=\"plotly-graph-div\" style=\"height:525px; width:100%;\"></div>\n",
       "            <script type=\"text/javascript\">\n",
       "                require([\"plotly\"], function(Plotly) {\n",
       "                    window.PLOTLYENV=window.PLOTLYENV || {};\n",
       "                    \n",
       "                if (document.getElementById(\"3d9c0ec1-6d8f-4471-8612-1567493da633\")) {\n",
       "                    Plotly.newPlot(\n",
       "                        '3d9c0ec1-6d8f-4471-8612-1567493da633',\n",
       "                        [{\"hovertext\": [\"San Diego Growlers +/- : 41\", \"New York Empire +/- : 41\", \"Los Angeles Aviators +/- : 39\", \"Raleigh Flyers +/- : 38\", \"Pittsburgh Thunderbirds +/- : 28\", \"Madison Radicals +/- : 27\", \"Toronto Rush +/- : 21\", \"Dallas Roughnecks +/- : 17\", \"Chicago Wildfire +/- : 14\", \"Indianapolis AlleyCats +/- : 12\", \"Minnesota Wind Chill +/- : 9\", \"Atlanta Hustle +/- : 5\", \"DC Breeze +/- : 0\", \"Philadelphia Phoenix +/- : -12\", \"Montreal Royal +/- : -13\", \"Austin Sol +/- : -25\", \"Ottawa Outlaws +/- : -29\", \"Tampa Bay Cannons +/- : -31\", \"San Jose Spiders +/- : -37\", \"Seattle Cascades +/- : -43\", \"Detroit Mechanix +/- : -102\"], \"marker\": {\"color\": [\"black\", \"limegreen\", \"crimson\", \"red\", \"orange\", \"goldenrod\", \"tomato\", \"whitesmoke\", \"orangered\", \"darkgreen\", \"lightsteelblue\", \"indigo\", \"navy\", \"firebrick\", \"royalblue\", \"blue\", \"olivedrab\", \"yellow\", \"gold\", \"midnightblue\", \"maroon\"], \"line\": {\"color\": \"black\", \"width\": 2}}, \"name\": \"Goals Scored (Offense)\", \"opacity\": 0.6, \"text\": [23.846153846153847, 22.666666666666668, 23.53846153846154, 22.53846153846154, 21.214285714285715, 20.75, 25.214285714285715, 21.0, 20.846153846153847, 20.307692307692307, 21.75, 20.5, 21.0, 19.3, 26.444444444444443, 19.083333333333332, 19.181818181818183, 19.333333333333332, 22.0, 21.916666666666668, 14.5], \"textfont\": {\"family\": \"sans serif\", \"size\": 12}, \"textposition\": \"auto\", \"type\": \"bar\", \"x\": [\"San Diego Growlers\", \"New York Empire\", \"Los Angeles Aviators\", \"Raleigh Flyers\", \"Pittsburgh Thunderbirds\", \"Madison Radicals\", \"Toronto Rush\", \"Dallas Roughnecks\", \"Chicago Wildfire\", \"Indianapolis AlleyCats\", \"Minnesota Wind Chill\", \"Atlanta Hustle\", \"DC Breeze\", \"Philadelphia Phoenix\", \"Montreal Royal\", \"Austin Sol\", \"Ottawa Outlaws\", \"Tampa Bay Cannons\", \"San Jose Spiders\", \"Seattle Cascades\", \"Detroit Mechanix\"], \"y\": [23.846153846153847, 22.666666666666668, 23.53846153846154, 22.53846153846154, 21.214285714285715, 20.75, 25.214285714285715, 21.0, 20.846153846153847, 20.307692307692307, 21.75, 20.5, 21.0, 19.3, 26.444444444444443, 19.083333333333332, 19.181818181818183, 19.333333333333332, 22.0, 21.916666666666668, 14.5]}, {\"hovertext\": [\"San Diego Growlers +/- : 41\", \"New York Empire +/- : 41\", \"Los Angeles Aviators +/- : 39\", \"Raleigh Flyers +/- : 38\", \"Pittsburgh Thunderbirds +/- : 28\", \"Madison Radicals +/- : 27\", \"Toronto Rush +/- : 21\", \"Dallas Roughnecks +/- : 17\", \"Chicago Wildfire +/- : 14\", \"Indianapolis AlleyCats +/- : 12\", \"Minnesota Wind Chill +/- : 9\", \"Atlanta Hustle +/- : 5\", \"DC Breeze +/- : 0\", \"Philadelphia Phoenix +/- : -12\", \"Montreal Royal +/- : -13\", \"Austin Sol +/- : -25\", \"Ottawa Outlaws +/- : -29\", \"Tampa Bay Cannons +/- : -31\", \"San Jose Spiders +/- : -37\", \"Seattle Cascades +/- : -43\", \"Detroit Mechanix +/- : -102\"], \"marker\": {\"color\": [\"black\", \"limegreen\", \"crimson\", \"red\", \"orange\", \"goldenrod\", \"tomato\", \"whitesmoke\", \"orangered\", \"darkgreen\", \"lightsteelblue\", \"indigo\", \"navy\", \"firebrick\", \"royalblue\", \"blue\", \"olivedrab\", \"yellow\", \"gold\", \"midnightblue\", \"maroon\"], \"line\": {\"color\": \"black\", \"width\": 2}}, \"name\": \"Goals Allowed (Defense)\", \"opacity\": 0.3, \"text\": [20.692307692307693, 19.25, 20.53846153846154, 19.615384615384617, 19.214285714285715, 18.5, 23.714285714285715, 19.692307692307693, 19.76923076923077, 19.384615384615383, 21.0, 20.083333333333332, 21.0, 20.5, 27.88888888888889, 21.166666666666668, 21.818181818181817, 21.916666666666668, 25.083333333333332, 25.5, 23.0], \"textfont\": {\"family\": \"sans serif\", \"size\": 12}, \"textposition\": \"auto\", \"type\": \"bar\", \"x\": [\"San Diego Growlers\", \"New York Empire\", \"Los Angeles Aviators\", \"Raleigh Flyers\", \"Pittsburgh Thunderbirds\", \"Madison Radicals\", \"Toronto Rush\", \"Dallas Roughnecks\", \"Chicago Wildfire\", \"Indianapolis AlleyCats\", \"Minnesota Wind Chill\", \"Atlanta Hustle\", \"DC Breeze\", \"Philadelphia Phoenix\", \"Montreal Royal\", \"Austin Sol\", \"Ottawa Outlaws\", \"Tampa Bay Cannons\", \"San Jose Spiders\", \"Seattle Cascades\", \"Detroit Mechanix\"], \"y\": [20.692307692307693, 19.25, 20.53846153846154, 19.615384615384617, 19.214285714285715, 18.5, 23.714285714285715, 19.692307692307693, 19.76923076923077, 19.384615384615383, 21.0, 20.083333333333332, 21.0, 20.5, 27.88888888888889, 21.166666666666668, 21.818181818181817, 21.916666666666668, 25.083333333333332, 25.5, 23.0]}],\n",
       "                        {\"bargap\": 0.15, \"bargroupgap\": 0.1, \"plot_bgcolor\": \"rgb(220,220,220)\", \"template\": {\"data\": {\"bar\": [{\"error_x\": {\"color\": \"#2a3f5f\"}, \"error_y\": {\"color\": \"#2a3f5f\"}, \"marker\": {\"line\": {\"color\": \"#E5ECF6\", \"width\": 0.5}}, \"type\": \"bar\"}], \"barpolar\": [{\"marker\": {\"line\": {\"color\": \"#E5ECF6\", \"width\": 0.5}}, \"type\": \"barpolar\"}], \"carpet\": [{\"aaxis\": {\"endlinecolor\": \"#2a3f5f\", \"gridcolor\": \"white\", \"linecolor\": \"white\", \"minorgridcolor\": \"white\", \"startlinecolor\": \"#2a3f5f\"}, \"baxis\": {\"endlinecolor\": \"#2a3f5f\", \"gridcolor\": \"white\", \"linecolor\": \"white\", \"minorgridcolor\": \"white\", \"startlinecolor\": \"#2a3f5f\"}, \"type\": \"carpet\"}], \"choropleth\": [{\"colorbar\": {\"outlinewidth\": 0, \"ticks\": \"\"}, \"type\": \"choropleth\"}], \"contour\": [{\"colorbar\": {\"outlinewidth\": 0, \"ticks\": \"\"}, \"colorscale\": [[0.0, \"#0d0887\"], [0.1111111111111111, \"#46039f\"], [0.2222222222222222, \"#7201a8\"], [0.3333333333333333, \"#9c179e\"], [0.4444444444444444, \"#bd3786\"], [0.5555555555555556, \"#d8576b\"], [0.6666666666666666, \"#ed7953\"], [0.7777777777777778, \"#fb9f3a\"], [0.8888888888888888, \"#fdca26\"], [1.0, \"#f0f921\"]], \"type\": \"contour\"}], \"contourcarpet\": [{\"colorbar\": {\"outlinewidth\": 0, \"ticks\": \"\"}, \"type\": \"contourcarpet\"}], \"heatmap\": [{\"colorbar\": {\"outlinewidth\": 0, \"ticks\": \"\"}, \"colorscale\": [[0.0, \"#0d0887\"], [0.1111111111111111, \"#46039f\"], [0.2222222222222222, \"#7201a8\"], [0.3333333333333333, \"#9c179e\"], [0.4444444444444444, \"#bd3786\"], [0.5555555555555556, \"#d8576b\"], [0.6666666666666666, \"#ed7953\"], [0.7777777777777778, \"#fb9f3a\"], [0.8888888888888888, \"#fdca26\"], [1.0, \"#f0f921\"]], \"type\": \"heatmap\"}], \"heatmapgl\": [{\"colorbar\": {\"outlinewidth\": 0, \"ticks\": \"\"}, \"colorscale\": [[0.0, \"#0d0887\"], [0.1111111111111111, \"#46039f\"], [0.2222222222222222, \"#7201a8\"], [0.3333333333333333, \"#9c179e\"], [0.4444444444444444, \"#bd3786\"], [0.5555555555555556, \"#d8576b\"], [0.6666666666666666, \"#ed7953\"], [0.7777777777777778, \"#fb9f3a\"], [0.8888888888888888, \"#fdca26\"], [1.0, \"#f0f921\"]], \"type\": \"heatmapgl\"}], \"histogram\": [{\"marker\": {\"colorbar\": {\"outlinewidth\": 0, \"ticks\": \"\"}}, \"type\": \"histogram\"}], \"histogram2d\": [{\"colorbar\": {\"outlinewidth\": 0, \"ticks\": \"\"}, \"colorscale\": [[0.0, \"#0d0887\"], [0.1111111111111111, \"#46039f\"], [0.2222222222222222, \"#7201a8\"], [0.3333333333333333, \"#9c179e\"], [0.4444444444444444, \"#bd3786\"], [0.5555555555555556, \"#d8576b\"], [0.6666666666666666, \"#ed7953\"], [0.7777777777777778, \"#fb9f3a\"], [0.8888888888888888, \"#fdca26\"], [1.0, \"#f0f921\"]], \"type\": \"histogram2d\"}], \"histogram2dcontour\": [{\"colorbar\": {\"outlinewidth\": 0, \"ticks\": \"\"}, \"colorscale\": [[0.0, \"#0d0887\"], [0.1111111111111111, \"#46039f\"], [0.2222222222222222, \"#7201a8\"], [0.3333333333333333, \"#9c179e\"], [0.4444444444444444, \"#bd3786\"], [0.5555555555555556, \"#d8576b\"], [0.6666666666666666, \"#ed7953\"], [0.7777777777777778, \"#fb9f3a\"], [0.8888888888888888, \"#fdca26\"], [1.0, \"#f0f921\"]], \"type\": \"histogram2dcontour\"}], \"mesh3d\": [{\"colorbar\": {\"outlinewidth\": 0, \"ticks\": \"\"}, \"type\": \"mesh3d\"}], \"parcoords\": [{\"line\": {\"colorbar\": {\"outlinewidth\": 0, \"ticks\": \"\"}}, \"type\": \"parcoords\"}], \"scatter\": [{\"marker\": {\"colorbar\": {\"outlinewidth\": 0, \"ticks\": \"\"}}, \"type\": \"scatter\"}], \"scatter3d\": [{\"line\": {\"colorbar\": {\"outlinewidth\": 0, \"ticks\": \"\"}}, \"marker\": {\"colorbar\": {\"outlinewidth\": 0, \"ticks\": \"\"}}, \"type\": \"scatter3d\"}], \"scattercarpet\": [{\"marker\": {\"colorbar\": {\"outlinewidth\": 0, \"ticks\": \"\"}}, \"type\": \"scattercarpet\"}], \"scattergeo\": [{\"marker\": {\"colorbar\": {\"outlinewidth\": 0, \"ticks\": \"\"}}, \"type\": \"scattergeo\"}], \"scattergl\": [{\"marker\": {\"colorbar\": {\"outlinewidth\": 0, \"ticks\": \"\"}}, \"type\": \"scattergl\"}], \"scattermapbox\": [{\"marker\": {\"colorbar\": {\"outlinewidth\": 0, \"ticks\": \"\"}}, \"type\": \"scattermapbox\"}], \"scatterpolar\": [{\"marker\": {\"colorbar\": {\"outlinewidth\": 0, \"ticks\": \"\"}}, \"type\": \"scatterpolar\"}], \"scatterpolargl\": [{\"marker\": {\"colorbar\": {\"outlinewidth\": 0, \"ticks\": \"\"}}, \"type\": \"scatterpolargl\"}], \"scatterternary\": [{\"marker\": {\"colorbar\": {\"outlinewidth\": 0, \"ticks\": \"\"}}, \"type\": \"scatterternary\"}], \"surface\": [{\"colorbar\": {\"outlinewidth\": 0, \"ticks\": \"\"}, \"colorscale\": [[0.0, \"#0d0887\"], [0.1111111111111111, \"#46039f\"], [0.2222222222222222, \"#7201a8\"], [0.3333333333333333, \"#9c179e\"], [0.4444444444444444, \"#bd3786\"], [0.5555555555555556, \"#d8576b\"], [0.6666666666666666, \"#ed7953\"], [0.7777777777777778, \"#fb9f3a\"], [0.8888888888888888, \"#fdca26\"], [1.0, \"#f0f921\"]], \"type\": \"surface\"}], \"table\": [{\"cells\": {\"fill\": {\"color\": \"#EBF0F8\"}, \"line\": {\"color\": \"white\"}}, \"header\": {\"fill\": {\"color\": \"#C8D4E3\"}, \"line\": {\"color\": \"white\"}}, \"type\": \"table\"}]}, \"layout\": {\"annotationdefaults\": {\"arrowcolor\": \"#2a3f5f\", \"arrowhead\": 0, \"arrowwidth\": 1}, \"colorscale\": {\"diverging\": [[0, \"#8e0152\"], [0.1, \"#c51b7d\"], [0.2, \"#de77ae\"], [0.3, \"#f1b6da\"], [0.4, \"#fde0ef\"], [0.5, \"#f7f7f7\"], [0.6, \"#e6f5d0\"], [0.7, \"#b8e186\"], [0.8, \"#7fbc41\"], [0.9, \"#4d9221\"], [1, \"#276419\"]], \"sequential\": [[0.0, \"#0d0887\"], [0.1111111111111111, \"#46039f\"], [0.2222222222222222, \"#7201a8\"], [0.3333333333333333, \"#9c179e\"], [0.4444444444444444, \"#bd3786\"], [0.5555555555555556, \"#d8576b\"], [0.6666666666666666, \"#ed7953\"], [0.7777777777777778, \"#fb9f3a\"], [0.8888888888888888, \"#fdca26\"], [1.0, \"#f0f921\"]], \"sequentialminus\": [[0.0, \"#0d0887\"], [0.1111111111111111, \"#46039f\"], [0.2222222222222222, \"#7201a8\"], [0.3333333333333333, \"#9c179e\"], [0.4444444444444444, \"#bd3786\"], [0.5555555555555556, \"#d8576b\"], [0.6666666666666666, \"#ed7953\"], [0.7777777777777778, \"#fb9f3a\"], [0.8888888888888888, \"#fdca26\"], [1.0, \"#f0f921\"]]}, \"colorway\": [\"#636efa\", \"#EF553B\", \"#00cc96\", \"#ab63fa\", \"#FFA15A\", \"#19d3f3\", \"#FF6692\", \"#B6E880\", \"#FF97FF\", \"#FECB52\"], \"font\": {\"color\": \"#2a3f5f\"}, \"geo\": {\"bgcolor\": \"white\", \"lakecolor\": \"white\", \"landcolor\": \"#E5ECF6\", \"showlakes\": true, \"showland\": true, \"subunitcolor\": \"white\"}, \"hoverlabel\": {\"align\": \"left\"}, \"hovermode\": \"closest\", \"mapbox\": {\"style\": \"light\"}, \"paper_bgcolor\": \"white\", \"plot_bgcolor\": \"#E5ECF6\", \"polar\": {\"angularaxis\": {\"gridcolor\": \"white\", \"linecolor\": \"white\", \"ticks\": \"\"}, \"bgcolor\": \"#E5ECF6\", \"radialaxis\": {\"gridcolor\": \"white\", \"linecolor\": \"white\", \"ticks\": \"\"}}, \"scene\": {\"xaxis\": {\"backgroundcolor\": \"#E5ECF6\", \"gridcolor\": \"white\", \"gridwidth\": 2, \"linecolor\": \"white\", \"showbackground\": true, \"ticks\": \"\", \"zerolinecolor\": \"white\"}, \"yaxis\": {\"backgroundcolor\": \"#E5ECF6\", \"gridcolor\": \"white\", \"gridwidth\": 2, \"linecolor\": \"white\", \"showbackground\": true, \"ticks\": \"\", \"zerolinecolor\": \"white\"}, \"zaxis\": {\"backgroundcolor\": \"#E5ECF6\", \"gridcolor\": \"white\", \"gridwidth\": 2, \"linecolor\": \"white\", \"showbackground\": true, \"ticks\": \"\", \"zerolinecolor\": \"white\"}}, \"shapedefaults\": {\"line\": {\"color\": \"#2a3f5f\"}}, \"ternary\": {\"aaxis\": {\"gridcolor\": \"white\", \"linecolor\": \"white\", \"ticks\": \"\"}, \"baxis\": {\"gridcolor\": \"white\", \"linecolor\": \"white\", \"ticks\": \"\"}, \"bgcolor\": \"#E5ECF6\", \"caxis\": {\"gridcolor\": \"white\", \"linecolor\": \"white\", \"ticks\": \"\"}}, \"title\": {\"x\": 0.05}, \"xaxis\": {\"automargin\": true, \"gridcolor\": \"white\", \"linecolor\": \"white\", \"ticks\": \"\", \"zerolinecolor\": \"white\", \"zerolinewidth\": 2}, \"yaxis\": {\"automargin\": true, \"gridcolor\": \"white\", \"linecolor\": \"white\", \"ticks\": \"\", \"zerolinecolor\": \"white\", \"zerolinewidth\": 2}}}, \"title\": {\"text\": \"Goals Scored (O) and Goals Allowed (D), 2019 Season - Sorted By +/- (Descending, Left to Right)\"}, \"xaxis\": {\"title\": {\"text\": \"Team\"}}, \"yaxis\": {\"title\": {\"text\": \"Count of Goals (2019 Season Totals)\"}}},\n",
       "                        {\"responsive\": true}\n",
       "                    ).then(function(){\n",
       "                            \n",
       "var gd = document.getElementById('3d9c0ec1-6d8f-4471-8612-1567493da633');\n",
       "var x = new MutationObserver(function (mutations, observer) {{\n",
       "        var display = window.getComputedStyle(gd).display;\n",
       "        if (!display || display === 'none') {{\n",
       "            console.log([gd, 'removed!']);\n",
       "            Plotly.purge(gd);\n",
       "            observer.disconnect();\n",
       "        }}\n",
       "}});\n",
       "\n",
       "// Listen for the removal of the full notebook cells\n",
       "var notebookContainer = gd.closest('#notebook-container');\n",
       "if (notebookContainer) {{\n",
       "    x.observe(notebookContainer, {childList: true});\n",
       "}}\n",
       "\n",
       "// Listen for the clearing of the current output cell\n",
       "var outputEl = gd.closest('.output');\n",
       "if (outputEl) {{\n",
       "    x.observe(outputEl, {childList: true});\n",
       "}}\n",
       "\n",
       "                        })\n",
       "                };\n",
       "                });\n",
       "            </script>\n",
       "        </div>"
      ]
     },
     "metadata": {},
     "output_type": "display_data"
    }
   ],
   "source": [
    "iplot(plot_goals(teams_list,df_stats,teams_col_dict))"
   ]
  },
  {
   "cell_type": "code",
   "execution_count": 7,
   "metadata": {},
   "outputs": [
    {
     "data": {
      "application/vnd.plotly.v1+json": {
       "config": {
        "linkText": "Export to plot.ly",
        "plotlyServerURL": "https://plot.ly",
        "showLink": false
       },
       "data": [
        {
         "marker": {
          "color": "oldlace",
          "line": {
           "color": "black"
          }
         },
         "name": "Passes Completed",
         "type": "bar",
         "x": [
          0,
          1,
          2,
          3,
          4,
          5,
          6,
          7,
          8,
          9,
          10,
          11,
          12,
          13,
          14,
          15,
          16,
          17,
          18,
          19,
          20,
          21,
          22,
          23,
          24,
          25,
          26,
          27,
          28,
          29,
          30,
          31,
          33,
          34,
          38,
          43
         ],
         "y": [
          0.10418804216024624,
          0.0952336535770917,
          0.11743307527282902,
          0.10325529334950098,
          0.09290178155022852,
          0.08236171998880701,
          0.06958306128159687,
          0.06529241675216864,
          0.056244753287939556,
          0.04663744053726331,
          0.03395205671112769,
          0.028728663370954203,
          0.02378509467400429,
          0.0171625781177129,
          0.013245033112582781,
          0.012219009420762988,
          0.008488014177781923,
          0.006809066318440444,
          0.005783042626620651,
          0.003544445480832012,
          0.003264620837608432,
          0.001492398097192426,
          0.0021453222647141125,
          0.0016789478593414793,
          0.001026023691819793,
          0.000746199048596213,
          0.0005596492864471598,
          0.00046637440537263317,
          0.00046637440537263317,
          0.00046637440537263317,
          0.0002798246432235799,
          9.327488107452663e-05,
          0.00018654976214905325,
          9.327488107452663e-05,
          9.327488107452663e-05,
          9.327488107452663e-05
         ]
        },
        {
         "marker": {
          "color": "black"
         },
         "mode": "lines",
         "name": "Negative Binomial Approximation",
         "type": "scatter",
         "x": [
          0,
          1,
          2,
          3,
          4,
          5,
          6,
          7,
          8,
          9,
          10,
          11,
          12,
          13,
          14,
          15,
          16,
          17,
          18,
          19,
          20,
          21,
          22,
          23,
          24,
          25,
          26,
          27,
          28,
          29,
          30,
          31,
          32,
          33,
          34,
          35,
          36,
          37,
          38
         ],
         "y": [
          0.08201471611729245,
          0.11071941555317297,
          0.11633395828187611,
          0.11062754878160985,
          0.09968285834978277,
          0.0868375995946119,
          0.07391498521111169,
          0.06186202018277792,
          0.05111324749111884,
          0.04180718856798437,
          0.03391740993494958,
          0.027332013326732754,
          0.02190129556305102,
          0.017465596014319122,
          0.013870823173864807,
          0.01097639082597169,
          0.008658565715632494,
          0.006811128956677132,
          0.005344547625678816,
          0.004184398486701281,
          0.0032694935031349855,
          0.002549969917995695,
          0.0019854894868432285,
          0.0015436179468485275,
          0.0011984112624071615,
          0.0009292092499264414,
          0.0007196230479092229,
          0.0005566961067531328,
          0.00043021602572118205,
          0.00033215479374500823,
          0.0002562166092932212,
          0.00019747472403358921,
          0.00015208122958093758,
          0.00011703612921497152,
          9.000427000847512e-05,
          6.917069284320002e-05,
          5.3126670725325336e-05,
          4.078015779835775e-05,
          3.128558420187788e-05
         ]
        }
       ],
       "layout": {
        "boxmode": "group",
        "plot_bgcolor": "rgb(220,220,220)",
        "template": {
         "data": {
          "bar": [
           {
            "error_x": {
             "color": "#2a3f5f"
            },
            "error_y": {
             "color": "#2a3f5f"
            },
            "marker": {
             "line": {
              "color": "#E5ECF6",
              "width": 0.5
             }
            },
            "type": "bar"
           }
          ],
          "barpolar": [
           {
            "marker": {
             "line": {
              "color": "#E5ECF6",
              "width": 0.5
             }
            },
            "type": "barpolar"
           }
          ],
          "carpet": [
           {
            "aaxis": {
             "endlinecolor": "#2a3f5f",
             "gridcolor": "white",
             "linecolor": "white",
             "minorgridcolor": "white",
             "startlinecolor": "#2a3f5f"
            },
            "baxis": {
             "endlinecolor": "#2a3f5f",
             "gridcolor": "white",
             "linecolor": "white",
             "minorgridcolor": "white",
             "startlinecolor": "#2a3f5f"
            },
            "type": "carpet"
           }
          ],
          "choropleth": [
           {
            "colorbar": {
             "outlinewidth": 0,
             "ticks": ""
            },
            "type": "choropleth"
           }
          ],
          "contour": [
           {
            "colorbar": {
             "outlinewidth": 0,
             "ticks": ""
            },
            "colorscale": [
             [
              0,
              "#0d0887"
             ],
             [
              0.1111111111111111,
              "#46039f"
             ],
             [
              0.2222222222222222,
              "#7201a8"
             ],
             [
              0.3333333333333333,
              "#9c179e"
             ],
             [
              0.4444444444444444,
              "#bd3786"
             ],
             [
              0.5555555555555556,
              "#d8576b"
             ],
             [
              0.6666666666666666,
              "#ed7953"
             ],
             [
              0.7777777777777778,
              "#fb9f3a"
             ],
             [
              0.8888888888888888,
              "#fdca26"
             ],
             [
              1,
              "#f0f921"
             ]
            ],
            "type": "contour"
           }
          ],
          "contourcarpet": [
           {
            "colorbar": {
             "outlinewidth": 0,
             "ticks": ""
            },
            "type": "contourcarpet"
           }
          ],
          "heatmap": [
           {
            "colorbar": {
             "outlinewidth": 0,
             "ticks": ""
            },
            "colorscale": [
             [
              0,
              "#0d0887"
             ],
             [
              0.1111111111111111,
              "#46039f"
             ],
             [
              0.2222222222222222,
              "#7201a8"
             ],
             [
              0.3333333333333333,
              "#9c179e"
             ],
             [
              0.4444444444444444,
              "#bd3786"
             ],
             [
              0.5555555555555556,
              "#d8576b"
             ],
             [
              0.6666666666666666,
              "#ed7953"
             ],
             [
              0.7777777777777778,
              "#fb9f3a"
             ],
             [
              0.8888888888888888,
              "#fdca26"
             ],
             [
              1,
              "#f0f921"
             ]
            ],
            "type": "heatmap"
           }
          ],
          "heatmapgl": [
           {
            "colorbar": {
             "outlinewidth": 0,
             "ticks": ""
            },
            "colorscale": [
             [
              0,
              "#0d0887"
             ],
             [
              0.1111111111111111,
              "#46039f"
             ],
             [
              0.2222222222222222,
              "#7201a8"
             ],
             [
              0.3333333333333333,
              "#9c179e"
             ],
             [
              0.4444444444444444,
              "#bd3786"
             ],
             [
              0.5555555555555556,
              "#d8576b"
             ],
             [
              0.6666666666666666,
              "#ed7953"
             ],
             [
              0.7777777777777778,
              "#fb9f3a"
             ],
             [
              0.8888888888888888,
              "#fdca26"
             ],
             [
              1,
              "#f0f921"
             ]
            ],
            "type": "heatmapgl"
           }
          ],
          "histogram": [
           {
            "marker": {
             "colorbar": {
              "outlinewidth": 0,
              "ticks": ""
             }
            },
            "type": "histogram"
           }
          ],
          "histogram2d": [
           {
            "colorbar": {
             "outlinewidth": 0,
             "ticks": ""
            },
            "colorscale": [
             [
              0,
              "#0d0887"
             ],
             [
              0.1111111111111111,
              "#46039f"
             ],
             [
              0.2222222222222222,
              "#7201a8"
             ],
             [
              0.3333333333333333,
              "#9c179e"
             ],
             [
              0.4444444444444444,
              "#bd3786"
             ],
             [
              0.5555555555555556,
              "#d8576b"
             ],
             [
              0.6666666666666666,
              "#ed7953"
             ],
             [
              0.7777777777777778,
              "#fb9f3a"
             ],
             [
              0.8888888888888888,
              "#fdca26"
             ],
             [
              1,
              "#f0f921"
             ]
            ],
            "type": "histogram2d"
           }
          ],
          "histogram2dcontour": [
           {
            "colorbar": {
             "outlinewidth": 0,
             "ticks": ""
            },
            "colorscale": [
             [
              0,
              "#0d0887"
             ],
             [
              0.1111111111111111,
              "#46039f"
             ],
             [
              0.2222222222222222,
              "#7201a8"
             ],
             [
              0.3333333333333333,
              "#9c179e"
             ],
             [
              0.4444444444444444,
              "#bd3786"
             ],
             [
              0.5555555555555556,
              "#d8576b"
             ],
             [
              0.6666666666666666,
              "#ed7953"
             ],
             [
              0.7777777777777778,
              "#fb9f3a"
             ],
             [
              0.8888888888888888,
              "#fdca26"
             ],
             [
              1,
              "#f0f921"
             ]
            ],
            "type": "histogram2dcontour"
           }
          ],
          "mesh3d": [
           {
            "colorbar": {
             "outlinewidth": 0,
             "ticks": ""
            },
            "type": "mesh3d"
           }
          ],
          "parcoords": [
           {
            "line": {
             "colorbar": {
              "outlinewidth": 0,
              "ticks": ""
             }
            },
            "type": "parcoords"
           }
          ],
          "scatter": [
           {
            "marker": {
             "colorbar": {
              "outlinewidth": 0,
              "ticks": ""
             }
            },
            "type": "scatter"
           }
          ],
          "scatter3d": [
           {
            "line": {
             "colorbar": {
              "outlinewidth": 0,
              "ticks": ""
             }
            },
            "marker": {
             "colorbar": {
              "outlinewidth": 0,
              "ticks": ""
             }
            },
            "type": "scatter3d"
           }
          ],
          "scattercarpet": [
           {
            "marker": {
             "colorbar": {
              "outlinewidth": 0,
              "ticks": ""
             }
            },
            "type": "scattercarpet"
           }
          ],
          "scattergeo": [
           {
            "marker": {
             "colorbar": {
              "outlinewidth": 0,
              "ticks": ""
             }
            },
            "type": "scattergeo"
           }
          ],
          "scattergl": [
           {
            "marker": {
             "colorbar": {
              "outlinewidth": 0,
              "ticks": ""
             }
            },
            "type": "scattergl"
           }
          ],
          "scattermapbox": [
           {
            "marker": {
             "colorbar": {
              "outlinewidth": 0,
              "ticks": ""
             }
            },
            "type": "scattermapbox"
           }
          ],
          "scatterpolar": [
           {
            "marker": {
             "colorbar": {
              "outlinewidth": 0,
              "ticks": ""
             }
            },
            "type": "scatterpolar"
           }
          ],
          "scatterpolargl": [
           {
            "marker": {
             "colorbar": {
              "outlinewidth": 0,
              "ticks": ""
             }
            },
            "type": "scatterpolargl"
           }
          ],
          "scatterternary": [
           {
            "marker": {
             "colorbar": {
              "outlinewidth": 0,
              "ticks": ""
             }
            },
            "type": "scatterternary"
           }
          ],
          "surface": [
           {
            "colorbar": {
             "outlinewidth": 0,
             "ticks": ""
            },
            "colorscale": [
             [
              0,
              "#0d0887"
             ],
             [
              0.1111111111111111,
              "#46039f"
             ],
             [
              0.2222222222222222,
              "#7201a8"
             ],
             [
              0.3333333333333333,
              "#9c179e"
             ],
             [
              0.4444444444444444,
              "#bd3786"
             ],
             [
              0.5555555555555556,
              "#d8576b"
             ],
             [
              0.6666666666666666,
              "#ed7953"
             ],
             [
              0.7777777777777778,
              "#fb9f3a"
             ],
             [
              0.8888888888888888,
              "#fdca26"
             ],
             [
              1,
              "#f0f921"
             ]
            ],
            "type": "surface"
           }
          ],
          "table": [
           {
            "cells": {
             "fill": {
              "color": "#EBF0F8"
             },
             "line": {
              "color": "white"
             }
            },
            "header": {
             "fill": {
              "color": "#C8D4E3"
             },
             "line": {
              "color": "white"
             }
            },
            "type": "table"
           }
          ]
         },
         "layout": {
          "annotationdefaults": {
           "arrowcolor": "#2a3f5f",
           "arrowhead": 0,
           "arrowwidth": 1
          },
          "colorscale": {
           "diverging": [
            [
             0,
             "#8e0152"
            ],
            [
             0.1,
             "#c51b7d"
            ],
            [
             0.2,
             "#de77ae"
            ],
            [
             0.3,
             "#f1b6da"
            ],
            [
             0.4,
             "#fde0ef"
            ],
            [
             0.5,
             "#f7f7f7"
            ],
            [
             0.6,
             "#e6f5d0"
            ],
            [
             0.7,
             "#b8e186"
            ],
            [
             0.8,
             "#7fbc41"
            ],
            [
             0.9,
             "#4d9221"
            ],
            [
             1,
             "#276419"
            ]
           ],
           "sequential": [
            [
             0,
             "#0d0887"
            ],
            [
             0.1111111111111111,
             "#46039f"
            ],
            [
             0.2222222222222222,
             "#7201a8"
            ],
            [
             0.3333333333333333,
             "#9c179e"
            ],
            [
             0.4444444444444444,
             "#bd3786"
            ],
            [
             0.5555555555555556,
             "#d8576b"
            ],
            [
             0.6666666666666666,
             "#ed7953"
            ],
            [
             0.7777777777777778,
             "#fb9f3a"
            ],
            [
             0.8888888888888888,
             "#fdca26"
            ],
            [
             1,
             "#f0f921"
            ]
           ],
           "sequentialminus": [
            [
             0,
             "#0d0887"
            ],
            [
             0.1111111111111111,
             "#46039f"
            ],
            [
             0.2222222222222222,
             "#7201a8"
            ],
            [
             0.3333333333333333,
             "#9c179e"
            ],
            [
             0.4444444444444444,
             "#bd3786"
            ],
            [
             0.5555555555555556,
             "#d8576b"
            ],
            [
             0.6666666666666666,
             "#ed7953"
            ],
            [
             0.7777777777777778,
             "#fb9f3a"
            ],
            [
             0.8888888888888888,
             "#fdca26"
            ],
            [
             1,
             "#f0f921"
            ]
           ]
          },
          "colorway": [
           "#636efa",
           "#EF553B",
           "#00cc96",
           "#ab63fa",
           "#FFA15A",
           "#19d3f3",
           "#FF6692",
           "#B6E880",
           "#FF97FF",
           "#FECB52"
          ],
          "font": {
           "color": "#2a3f5f"
          },
          "geo": {
           "bgcolor": "white",
           "lakecolor": "white",
           "landcolor": "#E5ECF6",
           "showlakes": true,
           "showland": true,
           "subunitcolor": "white"
          },
          "hoverlabel": {
           "align": "left"
          },
          "hovermode": "closest",
          "mapbox": {
           "style": "light"
          },
          "paper_bgcolor": "white",
          "plot_bgcolor": "#E5ECF6",
          "polar": {
           "angularaxis": {
            "gridcolor": "white",
            "linecolor": "white",
            "ticks": ""
           },
           "bgcolor": "#E5ECF6",
           "radialaxis": {
            "gridcolor": "white",
            "linecolor": "white",
            "ticks": ""
           }
          },
          "scene": {
           "xaxis": {
            "backgroundcolor": "#E5ECF6",
            "gridcolor": "white",
            "gridwidth": 2,
            "linecolor": "white",
            "showbackground": true,
            "ticks": "",
            "zerolinecolor": "white"
           },
           "yaxis": {
            "backgroundcolor": "#E5ECF6",
            "gridcolor": "white",
            "gridwidth": 2,
            "linecolor": "white",
            "showbackground": true,
            "ticks": "",
            "zerolinecolor": "white"
           },
           "zaxis": {
            "backgroundcolor": "#E5ECF6",
            "gridcolor": "white",
            "gridwidth": 2,
            "linecolor": "white",
            "showbackground": true,
            "ticks": "",
            "zerolinecolor": "white"
           }
          },
          "shapedefaults": {
           "line": {
            "color": "#2a3f5f"
           }
          },
          "ternary": {
           "aaxis": {
            "gridcolor": "white",
            "linecolor": "white",
            "ticks": ""
           },
           "baxis": {
            "gridcolor": "white",
            "linecolor": "white",
            "ticks": ""
           },
           "bgcolor": "#E5ECF6",
           "caxis": {
            "gridcolor": "white",
            "linecolor": "white",
            "ticks": ""
           }
          },
          "title": {
           "x": 0.05
          },
          "xaxis": {
           "automargin": true,
           "gridcolor": "white",
           "linecolor": "white",
           "ticks": "",
           "zerolinecolor": "white",
           "zerolinewidth": 2
          },
          "yaxis": {
           "automargin": true,
           "gridcolor": "white",
           "linecolor": "white",
           "ticks": "",
           "zerolinecolor": "white",
           "zerolinewidth": 2
          }
         }
        },
        "title": {
         "text": "League Wide Catch Counts Per Possession, with Negative Binomial Estimation"
        },
        "xaxis": {
         "title": {
          "text": "n Number of Catches in a Possession"
         }
        },
        "yaxis": {
         "title": {
          "text": "Frequency"
         }
        }
       }
      },
      "text/html": [
       "<div>\n",
       "        \n",
       "        \n",
       "            <div id=\"f93ff1f5-1693-42ad-8845-af8acd140443\" class=\"plotly-graph-div\" style=\"height:525px; width:100%;\"></div>\n",
       "            <script type=\"text/javascript\">\n",
       "                require([\"plotly\"], function(Plotly) {\n",
       "                    window.PLOTLYENV=window.PLOTLYENV || {};\n",
       "                    \n",
       "                if (document.getElementById(\"f93ff1f5-1693-42ad-8845-af8acd140443\")) {\n",
       "                    Plotly.newPlot(\n",
       "                        'f93ff1f5-1693-42ad-8845-af8acd140443',\n",
       "                        [{\"marker\": {\"color\": \"oldlace\", \"line\": {\"color\": \"black\"}}, \"name\": \"Passes Completed\", \"type\": \"bar\", \"x\": [0, 1, 2, 3, 4, 5, 6, 7, 8, 9, 10, 11, 12, 13, 14, 15, 16, 17, 18, 19, 20, 21, 22, 23, 24, 25, 26, 27, 28, 29, 30, 31, 33, 34, 38, 43], \"y\": [0.10418804216024624, 0.0952336535770917, 0.11743307527282902, 0.10325529334950098, 0.09290178155022852, 0.08236171998880701, 0.06958306128159687, 0.06529241675216864, 0.056244753287939556, 0.04663744053726331, 0.03395205671112769, 0.028728663370954203, 0.02378509467400429, 0.0171625781177129, 0.013245033112582781, 0.012219009420762988, 0.008488014177781923, 0.006809066318440444, 0.005783042626620651, 0.003544445480832012, 0.003264620837608432, 0.001492398097192426, 0.0021453222647141125, 0.0016789478593414793, 0.001026023691819793, 0.000746199048596213, 0.0005596492864471598, 0.00046637440537263317, 0.00046637440537263317, 0.00046637440537263317, 0.0002798246432235799, 9.327488107452663e-05, 0.00018654976214905325, 9.327488107452663e-05, 9.327488107452663e-05, 9.327488107452663e-05]}, {\"marker\": {\"color\": \"black\"}, \"mode\": \"lines\", \"name\": \"Negative Binomial Approximation\", \"type\": \"scatter\", \"x\": [0.0, 1.0, 2.0, 3.0, 4.0, 5.0, 6.0, 7.0, 8.0, 9.0, 10.0, 11.0, 12.0, 13.0, 14.0, 15.0, 16.0, 17.0, 18.0, 19.0, 20.0, 21.0, 22.0, 23.0, 24.0, 25.0, 26.0, 27.0, 28.0, 29.0, 30.0, 31.0, 32.0, 33.0, 34.0, 35.0, 36.0, 37.0, 38.0], \"y\": [0.08201471611729245, 0.11071941555317297, 0.11633395828187611, 0.11062754878160985, 0.09968285834978277, 0.0868375995946119, 0.07391498521111169, 0.06186202018277792, 0.05111324749111884, 0.04180718856798437, 0.03391740993494958, 0.027332013326732754, 0.02190129556305102, 0.017465596014319122, 0.013870823173864807, 0.01097639082597169, 0.008658565715632494, 0.006811128956677132, 0.005344547625678816, 0.004184398486701281, 0.0032694935031349855, 0.002549969917995695, 0.0019854894868432285, 0.0015436179468485275, 0.0011984112624071615, 0.0009292092499264414, 0.0007196230479092229, 0.0005566961067531328, 0.00043021602572118205, 0.00033215479374500823, 0.0002562166092932212, 0.00019747472403358921, 0.00015208122958093758, 0.00011703612921497152, 9.000427000847512e-05, 6.917069284320002e-05, 5.3126670725325336e-05, 4.078015779835775e-05, 3.128558420187788e-05]}],\n",
       "                        {\"boxmode\": \"group\", \"plot_bgcolor\": \"rgb(220,220,220)\", \"template\": {\"data\": {\"bar\": [{\"error_x\": {\"color\": \"#2a3f5f\"}, \"error_y\": {\"color\": \"#2a3f5f\"}, \"marker\": {\"line\": {\"color\": \"#E5ECF6\", \"width\": 0.5}}, \"type\": \"bar\"}], \"barpolar\": [{\"marker\": {\"line\": {\"color\": \"#E5ECF6\", \"width\": 0.5}}, \"type\": \"barpolar\"}], \"carpet\": [{\"aaxis\": {\"endlinecolor\": \"#2a3f5f\", \"gridcolor\": \"white\", \"linecolor\": \"white\", \"minorgridcolor\": \"white\", \"startlinecolor\": \"#2a3f5f\"}, \"baxis\": {\"endlinecolor\": \"#2a3f5f\", \"gridcolor\": \"white\", \"linecolor\": \"white\", \"minorgridcolor\": \"white\", \"startlinecolor\": \"#2a3f5f\"}, \"type\": \"carpet\"}], \"choropleth\": [{\"colorbar\": {\"outlinewidth\": 0, \"ticks\": \"\"}, \"type\": \"choropleth\"}], \"contour\": [{\"colorbar\": {\"outlinewidth\": 0, \"ticks\": \"\"}, \"colorscale\": [[0.0, \"#0d0887\"], [0.1111111111111111, \"#46039f\"], [0.2222222222222222, \"#7201a8\"], [0.3333333333333333, \"#9c179e\"], [0.4444444444444444, \"#bd3786\"], [0.5555555555555556, \"#d8576b\"], [0.6666666666666666, \"#ed7953\"], [0.7777777777777778, \"#fb9f3a\"], [0.8888888888888888, \"#fdca26\"], [1.0, \"#f0f921\"]], \"type\": \"contour\"}], \"contourcarpet\": [{\"colorbar\": {\"outlinewidth\": 0, \"ticks\": \"\"}, \"type\": \"contourcarpet\"}], \"heatmap\": [{\"colorbar\": {\"outlinewidth\": 0, \"ticks\": \"\"}, \"colorscale\": [[0.0, \"#0d0887\"], [0.1111111111111111, \"#46039f\"], [0.2222222222222222, \"#7201a8\"], [0.3333333333333333, \"#9c179e\"], [0.4444444444444444, \"#bd3786\"], [0.5555555555555556, \"#d8576b\"], [0.6666666666666666, \"#ed7953\"], [0.7777777777777778, \"#fb9f3a\"], [0.8888888888888888, \"#fdca26\"], [1.0, \"#f0f921\"]], \"type\": \"heatmap\"}], \"heatmapgl\": [{\"colorbar\": {\"outlinewidth\": 0, \"ticks\": \"\"}, \"colorscale\": [[0.0, \"#0d0887\"], [0.1111111111111111, \"#46039f\"], [0.2222222222222222, \"#7201a8\"], [0.3333333333333333, \"#9c179e\"], [0.4444444444444444, \"#bd3786\"], [0.5555555555555556, \"#d8576b\"], [0.6666666666666666, \"#ed7953\"], [0.7777777777777778, \"#fb9f3a\"], [0.8888888888888888, \"#fdca26\"], [1.0, \"#f0f921\"]], \"type\": \"heatmapgl\"}], \"histogram\": [{\"marker\": {\"colorbar\": {\"outlinewidth\": 0, \"ticks\": \"\"}}, \"type\": \"histogram\"}], \"histogram2d\": [{\"colorbar\": {\"outlinewidth\": 0, \"ticks\": \"\"}, \"colorscale\": [[0.0, \"#0d0887\"], [0.1111111111111111, \"#46039f\"], [0.2222222222222222, \"#7201a8\"], [0.3333333333333333, \"#9c179e\"], [0.4444444444444444, \"#bd3786\"], [0.5555555555555556, \"#d8576b\"], [0.6666666666666666, \"#ed7953\"], [0.7777777777777778, \"#fb9f3a\"], [0.8888888888888888, \"#fdca26\"], [1.0, \"#f0f921\"]], \"type\": \"histogram2d\"}], \"histogram2dcontour\": [{\"colorbar\": {\"outlinewidth\": 0, \"ticks\": \"\"}, \"colorscale\": [[0.0, \"#0d0887\"], [0.1111111111111111, \"#46039f\"], [0.2222222222222222, \"#7201a8\"], [0.3333333333333333, \"#9c179e\"], [0.4444444444444444, \"#bd3786\"], [0.5555555555555556, \"#d8576b\"], [0.6666666666666666, \"#ed7953\"], [0.7777777777777778, \"#fb9f3a\"], [0.8888888888888888, \"#fdca26\"], [1.0, \"#f0f921\"]], \"type\": \"histogram2dcontour\"}], \"mesh3d\": [{\"colorbar\": {\"outlinewidth\": 0, \"ticks\": \"\"}, \"type\": \"mesh3d\"}], \"parcoords\": [{\"line\": {\"colorbar\": {\"outlinewidth\": 0, \"ticks\": \"\"}}, \"type\": \"parcoords\"}], \"scatter\": [{\"marker\": {\"colorbar\": {\"outlinewidth\": 0, \"ticks\": \"\"}}, \"type\": \"scatter\"}], \"scatter3d\": [{\"line\": {\"colorbar\": {\"outlinewidth\": 0, \"ticks\": \"\"}}, \"marker\": {\"colorbar\": {\"outlinewidth\": 0, \"ticks\": \"\"}}, \"type\": \"scatter3d\"}], \"scattercarpet\": [{\"marker\": {\"colorbar\": {\"outlinewidth\": 0, \"ticks\": \"\"}}, \"type\": \"scattercarpet\"}], \"scattergeo\": [{\"marker\": {\"colorbar\": {\"outlinewidth\": 0, \"ticks\": \"\"}}, \"type\": \"scattergeo\"}], \"scattergl\": [{\"marker\": {\"colorbar\": {\"outlinewidth\": 0, \"ticks\": \"\"}}, \"type\": \"scattergl\"}], \"scattermapbox\": [{\"marker\": {\"colorbar\": {\"outlinewidth\": 0, \"ticks\": \"\"}}, \"type\": \"scattermapbox\"}], \"scatterpolar\": [{\"marker\": {\"colorbar\": {\"outlinewidth\": 0, \"ticks\": \"\"}}, \"type\": \"scatterpolar\"}], \"scatterpolargl\": [{\"marker\": {\"colorbar\": {\"outlinewidth\": 0, \"ticks\": \"\"}}, \"type\": \"scatterpolargl\"}], \"scatterternary\": [{\"marker\": {\"colorbar\": {\"outlinewidth\": 0, \"ticks\": \"\"}}, \"type\": \"scatterternary\"}], \"surface\": [{\"colorbar\": {\"outlinewidth\": 0, \"ticks\": \"\"}, \"colorscale\": [[0.0, \"#0d0887\"], [0.1111111111111111, \"#46039f\"], [0.2222222222222222, \"#7201a8\"], [0.3333333333333333, \"#9c179e\"], [0.4444444444444444, \"#bd3786\"], [0.5555555555555556, \"#d8576b\"], [0.6666666666666666, \"#ed7953\"], [0.7777777777777778, \"#fb9f3a\"], [0.8888888888888888, \"#fdca26\"], [1.0, \"#f0f921\"]], \"type\": \"surface\"}], \"table\": [{\"cells\": {\"fill\": {\"color\": \"#EBF0F8\"}, \"line\": {\"color\": \"white\"}}, \"header\": {\"fill\": {\"color\": \"#C8D4E3\"}, \"line\": {\"color\": \"white\"}}, \"type\": \"table\"}]}, \"layout\": {\"annotationdefaults\": {\"arrowcolor\": \"#2a3f5f\", \"arrowhead\": 0, \"arrowwidth\": 1}, \"colorscale\": {\"diverging\": [[0, \"#8e0152\"], [0.1, \"#c51b7d\"], [0.2, \"#de77ae\"], [0.3, \"#f1b6da\"], [0.4, \"#fde0ef\"], [0.5, \"#f7f7f7\"], [0.6, \"#e6f5d0\"], [0.7, \"#b8e186\"], [0.8, \"#7fbc41\"], [0.9, \"#4d9221\"], [1, \"#276419\"]], \"sequential\": [[0.0, \"#0d0887\"], [0.1111111111111111, \"#46039f\"], [0.2222222222222222, \"#7201a8\"], [0.3333333333333333, \"#9c179e\"], [0.4444444444444444, \"#bd3786\"], [0.5555555555555556, \"#d8576b\"], [0.6666666666666666, \"#ed7953\"], [0.7777777777777778, \"#fb9f3a\"], [0.8888888888888888, \"#fdca26\"], [1.0, \"#f0f921\"]], \"sequentialminus\": [[0.0, \"#0d0887\"], [0.1111111111111111, \"#46039f\"], [0.2222222222222222, \"#7201a8\"], [0.3333333333333333, \"#9c179e\"], [0.4444444444444444, \"#bd3786\"], [0.5555555555555556, \"#d8576b\"], [0.6666666666666666, \"#ed7953\"], [0.7777777777777778, \"#fb9f3a\"], [0.8888888888888888, \"#fdca26\"], [1.0, \"#f0f921\"]]}, \"colorway\": [\"#636efa\", \"#EF553B\", \"#00cc96\", \"#ab63fa\", \"#FFA15A\", \"#19d3f3\", \"#FF6692\", \"#B6E880\", \"#FF97FF\", \"#FECB52\"], \"font\": {\"color\": \"#2a3f5f\"}, \"geo\": {\"bgcolor\": \"white\", \"lakecolor\": \"white\", \"landcolor\": \"#E5ECF6\", \"showlakes\": true, \"showland\": true, \"subunitcolor\": \"white\"}, \"hoverlabel\": {\"align\": \"left\"}, \"hovermode\": \"closest\", \"mapbox\": {\"style\": \"light\"}, \"paper_bgcolor\": \"white\", \"plot_bgcolor\": \"#E5ECF6\", \"polar\": {\"angularaxis\": {\"gridcolor\": \"white\", \"linecolor\": \"white\", \"ticks\": \"\"}, \"bgcolor\": \"#E5ECF6\", \"radialaxis\": {\"gridcolor\": \"white\", \"linecolor\": \"white\", \"ticks\": \"\"}}, \"scene\": {\"xaxis\": {\"backgroundcolor\": \"#E5ECF6\", \"gridcolor\": \"white\", \"gridwidth\": 2, \"linecolor\": \"white\", \"showbackground\": true, \"ticks\": \"\", \"zerolinecolor\": \"white\"}, \"yaxis\": {\"backgroundcolor\": \"#E5ECF6\", \"gridcolor\": \"white\", \"gridwidth\": 2, \"linecolor\": \"white\", \"showbackground\": true, \"ticks\": \"\", \"zerolinecolor\": \"white\"}, \"zaxis\": {\"backgroundcolor\": \"#E5ECF6\", \"gridcolor\": \"white\", \"gridwidth\": 2, \"linecolor\": \"white\", \"showbackground\": true, \"ticks\": \"\", \"zerolinecolor\": \"white\"}}, \"shapedefaults\": {\"line\": {\"color\": \"#2a3f5f\"}}, \"ternary\": {\"aaxis\": {\"gridcolor\": \"white\", \"linecolor\": \"white\", \"ticks\": \"\"}, \"baxis\": {\"gridcolor\": \"white\", \"linecolor\": \"white\", \"ticks\": \"\"}, \"bgcolor\": \"#E5ECF6\", \"caxis\": {\"gridcolor\": \"white\", \"linecolor\": \"white\", \"ticks\": \"\"}}, \"title\": {\"x\": 0.05}, \"xaxis\": {\"automargin\": true, \"gridcolor\": \"white\", \"linecolor\": \"white\", \"ticks\": \"\", \"zerolinecolor\": \"white\", \"zerolinewidth\": 2}, \"yaxis\": {\"automargin\": true, \"gridcolor\": \"white\", \"linecolor\": \"white\", \"ticks\": \"\", \"zerolinecolor\": \"white\", \"zerolinewidth\": 2}}}, \"title\": {\"text\": \"League Wide Catch Counts Per Possession, with Negative Binomial Estimation\"}, \"xaxis\": {\"title\": {\"text\": \"n Number of Catches in a Possession\"}}, \"yaxis\": {\"title\": {\"text\": \"Frequency\"}}},\n",
       "                        {\"responsive\": true}\n",
       "                    ).then(function(){\n",
       "                            \n",
       "var gd = document.getElementById('f93ff1f5-1693-42ad-8845-af8acd140443');\n",
       "var x = new MutationObserver(function (mutations, observer) {{\n",
       "        var display = window.getComputedStyle(gd).display;\n",
       "        if (!display || display === 'none') {{\n",
       "            console.log([gd, 'removed!']);\n",
       "            Plotly.purge(gd);\n",
       "            observer.disconnect();\n",
       "        }}\n",
       "}});\n",
       "\n",
       "// Listen for the removal of the full notebook cells\n",
       "var notebookContainer = gd.closest('#notebook-container');\n",
       "if (notebookContainer) {{\n",
       "    x.observe(notebookContainer, {childList: true});\n",
       "}}\n",
       "\n",
       "// Listen for the clearing of the current output cell\n",
       "var outputEl = gd.closest('.output');\n",
       "if (outputEl) {{\n",
       "    x.observe(outputEl, {childList: true});\n",
       "}}\n",
       "\n",
       "                        })\n",
       "                };\n",
       "                });\n",
       "            </script>\n",
       "        </div>"
      ]
     },
     "metadata": {},
     "output_type": "display_data"
    }
   ],
   "source": [
    "pass_count_stats, team_sequences_dict, all_sequences = collect_and_plot_passes_nb(teams_list=teams_list,\n",
    "                                                                                  teams_dict=teams_dict,\n",
    "                                                                                  plot_output='all',\n",
    "                                                                                  teams_col_dict=teams_col_dict)"
   ]
  },
  {
   "cell_type": "code",
   "execution_count": null,
   "metadata": {},
   "outputs": [],
   "source": []
  },
  {
   "cell_type": "code",
   "execution_count": null,
   "metadata": {},
   "outputs": [],
   "source": []
  },
  {
   "cell_type": "code",
   "execution_count": null,
   "metadata": {},
   "outputs": [],
   "source": []
  },
  {
   "cell_type": "code",
   "execution_count": null,
   "metadata": {
    "scrolled": true
   },
   "outputs": [],
   "source": []
  },
  {
   "cell_type": "code",
   "execution_count": null,
   "metadata": {
    "scrolled": true
   },
   "outputs": [],
   "source": []
  },
  {
   "cell_type": "code",
   "execution_count": null,
   "metadata": {},
   "outputs": [],
   "source": []
  },
  {
   "cell_type": "code",
   "execution_count": null,
   "metadata": {},
   "outputs": [],
   "source": []
  },
  {
   "cell_type": "code",
   "execution_count": null,
   "metadata": {},
   "outputs": [],
   "source": []
  },
  {
   "cell_type": "code",
   "execution_count": null,
   "metadata": {},
   "outputs": [],
   "source": []
  },
  {
   "cell_type": "code",
   "execution_count": null,
   "metadata": {},
   "outputs": [],
   "source": []
  },
  {
   "cell_type": "code",
   "execution_count": null,
   "metadata": {},
   "outputs": [],
   "source": []
  },
  {
   "cell_type": "code",
   "execution_count": null,
   "metadata": {},
   "outputs": [],
   "source": []
  },
  {
   "cell_type": "code",
   "execution_count": null,
   "metadata": {},
   "outputs": [],
   "source": []
  },
  {
   "cell_type": "code",
   "execution_count": null,
   "metadata": {},
   "outputs": [],
   "source": []
  },
  {
   "cell_type": "code",
   "execution_count": null,
   "metadata": {},
   "outputs": [],
   "source": []
  },
  {
   "cell_type": "code",
   "execution_count": null,
   "metadata": {},
   "outputs": [],
   "source": []
  },
  {
   "cell_type": "code",
   "execution_count": null,
   "metadata": {},
   "outputs": [],
   "source": []
  },
  {
   "cell_type": "code",
   "execution_count": null,
   "metadata": {},
   "outputs": [],
   "source": []
  },
  {
   "cell_type": "code",
   "execution_count": null,
   "metadata": {},
   "outputs": [],
   "source": []
  },
  {
   "cell_type": "code",
   "execution_count": null,
   "metadata": {},
   "outputs": [],
   "source": []
  },
  {
   "cell_type": "code",
   "execution_count": null,
   "metadata": {
    "scrolled": true
   },
   "outputs": [],
   "source": []
  },
  {
   "cell_type": "code",
   "execution_count": null,
   "metadata": {},
   "outputs": [],
   "source": []
  },
  {
   "cell_type": "code",
   "execution_count": null,
   "metadata": {},
   "outputs": [],
   "source": []
  },
  {
   "cell_type": "code",
   "execution_count": null,
   "metadata": {},
   "outputs": [],
   "source": []
  }
 ],
 "metadata": {
  "kernelspec": {
   "display_name": "Python 3",
   "language": "python",
   "name": "python3"
  },
  "language_info": {
   "codemirror_mode": {
    "name": "ipython",
    "version": 3
   },
   "file_extension": ".py",
   "mimetype": "text/x-python",
   "name": "python",
   "nbconvert_exporter": "python",
   "pygments_lexer": "ipython3",
   "version": "3.6.5"
  }
 },
 "nbformat": 4,
 "nbformat_minor": 2
}
